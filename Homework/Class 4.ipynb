{
 "cells": [
  {
   "cell_type": "code",
   "execution_count": 1,
   "metadata": {},
   "outputs": [
    {
     "data": {
      "text/html": [
       "<table>\n",
       "<thead><tr><th scope=col>date</th><th scope=col>intc</th><th scope=col>sp</th></tr></thead>\n",
       "<tbody>\n",
       "\t<tr><td>19730131 </td><td> 0.010050</td><td>-0.017111</td></tr>\n",
       "\t<tr><td>19730228 </td><td>-0.139303</td><td>-0.037490</td></tr>\n",
       "\t<tr><td>19730330 </td><td> 0.069364</td><td>-0.001433</td></tr>\n",
       "\t<tr><td>19730430 </td><td> 0.086486</td><td>-0.040800</td></tr>\n",
       "\t<tr><td>19730531 </td><td>-0.104478</td><td>-0.018884</td></tr>\n",
       "\t<tr><td>19730629 </td><td> 0.133333</td><td>-0.006575</td></tr>\n",
       "</tbody>\n",
       "</table>\n"
      ],
      "text/latex": [
       "\\begin{tabular}{r|lll}\n",
       " date & intc & sp\\\\\n",
       "\\hline\n",
       "\t 19730131  &  0.010050 & -0.017111\\\\\n",
       "\t 19730228  & -0.139303 & -0.037490\\\\\n",
       "\t 19730330  &  0.069364 & -0.001433\\\\\n",
       "\t 19730430  &  0.086486 & -0.040800\\\\\n",
       "\t 19730531  & -0.104478 & -0.018884\\\\\n",
       "\t 19730629  &  0.133333 & -0.006575\\\\\n",
       "\\end{tabular}\n"
      ],
      "text/markdown": [
       "\n",
       "| date | intc | sp |\n",
       "|---|---|---|\n",
       "| 19730131  |  0.010050 | -0.017111 |\n",
       "| 19730228  | -0.139303 | -0.037490 |\n",
       "| 19730330  |  0.069364 | -0.001433 |\n",
       "| 19730430  |  0.086486 | -0.040800 |\n",
       "| 19730531  | -0.104478 | -0.018884 |\n",
       "| 19730629  |  0.133333 | -0.006575 |\n",
       "\n"
      ],
      "text/plain": [
       "  date     intc      sp       \n",
       "1 19730131  0.010050 -0.017111\n",
       "2 19730228 -0.139303 -0.037490\n",
       "3 19730330  0.069364 -0.001433\n",
       "4 19730430  0.086486 -0.040800\n",
       "5 19730531 -0.104478 -0.018884\n",
       "6 19730629  0.133333 -0.006575"
      ]
     },
     "metadata": {},
     "output_type": "display_data"
    }
   ],
   "source": [
    "da <- read.table(\"data/m-intcsp7309.txt\", header = T)\n",
    "head(da)"
   ]
  },
  {
   "cell_type": "code",
   "execution_count": 11,
   "metadata": {},
   "outputs": [
    {
     "data": {
      "image/png": "[encoded data removed]",
      "text/plain": [
       "plot without title"
      ]
     },
     "metadata": {},
     "output_type": "display_data"
    }
   ],
   "source": [
    "intc <- log(da$intc + 1)  # 对数收益率\n",
    "rtn <- ts(intc, frequency = 12, start = c(1973, 1))  # 建立时间序列数据\n",
    "plot(rtn, type = \"l\", xlab = \"year\", ylab = \"ln-rtn\")"
   ]
  },
  {
   "cell_type": "code",
   "execution_count": 5,
   "metadata": {},
   "outputs": [
    {
     "data": {
      "text/plain": [
       "\n",
       "\tOne Sample t-test\n",
       "\n",
       "data:  intc\n",
       "t = 2.3788, df = 443, p-value = 0.01779\n",
       "alternative hypothesis: true mean is not equal to 0\n",
       "95 percent confidence interval:\n",
       " 0.00249032 0.02616428\n",
       "sample estimates:\n",
       "mean of x \n",
       "0.0143273 \n"
      ]
     },
     "metadata": {},
     "output_type": "display_data"
    }
   ],
   "source": [
    "t.test(intc)"
   ]
  },
  {
   "cell_type": "markdown",
   "metadata": {},
   "source": [
    "对数收益率的均值不为0。"
   ]
  },
  {
   "cell_type": "code",
   "execution_count": 6,
   "metadata": {},
   "outputs": [
    {
     "data": {
      "text/plain": [
       "\n",
       "\tBox-Ljung test\n",
       "\n",
       "data:  intc\n",
       "X-squared = 18.676, df = 12, p-value = 0.09665\n"
      ]
     },
     "metadata": {},
     "output_type": "display_data"
    }
   ],
   "source": [
    "Box.test(intc, lag = 12, type = \"Ljung\")"
   ]
  },
  {
   "cell_type": "code",
   "execution_count": 7,
   "metadata": {},
   "outputs": [
    {
     "data": {
      "image/png": "[encoded data removed]",
      "text/plain": [
       "Plot with title \"Series  abs(intc)\""
      ]
     },
     "metadata": {},
     "output_type": "display_data"
    }
   ],
   "source": [
    "par(mfcol = c(2, 1))\n",
    "acf(intc, lag = 24)\n",
    "acf(abs(intc), lag = 24)"
   ]
  },
  {
   "cell_type": "code",
   "execution_count": 8,
   "metadata": {},
   "outputs": [
    {
     "data": {
      "text/plain": [
       "\n",
       "\tBox-Ljung test\n",
       "\n",
       "data:  abs(intc)\n",
       "X-squared = 124.91, df = 12, p-value < 2.2e-16\n"
      ]
     },
     "metadata": {},
     "output_type": "display_data"
    }
   ],
   "source": [
    "Box.test(abs(intc), lag = 12, type = \"Ljung\")"
   ]
  },
  {
   "cell_type": "code",
   "execution_count": 9,
   "metadata": {},
   "outputs": [
    {
     "data": {
      "text/plain": [
       "\n",
       "\tBox-Ljung test\n",
       "\n",
       "data:  y^2\n",
       "X-squared = 92.939, df = 12, p-value = 1.332e-14\n"
      ]
     },
     "metadata": {},
     "output_type": "display_data"
    }
   ],
   "source": [
    "y = intc - mean(intc)\n",
    "Box.test(y^2, lag = 12, type = \"Ljung\")"
   ]
  },
  {
   "cell_type": "code",
   "execution_count": 10,
   "metadata": {},
   "outputs": [
    {
     "data": {
      "text/plain": [
       "\n",
       "Call:\n",
       "lm(formula = atsq ~ x)\n",
       "\n",
       "Residuals:\n",
       "     Min       1Q   Median       3Q      Max \n",
       "-0.07440 -0.01153 -0.00658  0.00395  0.35255 \n",
       "\n",
       "Coefficients:\n",
       "             Estimate Std. Error t value Pr(>|t|)    \n",
       "(Intercept)  0.005977   0.002249   2.658 0.008162 ** \n",
       "x1           0.093817   0.048147   1.949 0.052013 .  \n",
       "x2           0.153085   0.048102   3.183 0.001569 ** \n",
       "x3           0.146087   0.048614   3.005 0.002815 ** \n",
       "x4           0.023539   0.049126   0.479 0.632075    \n",
       "x5           0.007347   0.049107   0.150 0.881139    \n",
       "x6           0.010342   0.047027   0.220 0.826050    \n",
       "x7           0.057183   0.047027   1.216 0.224681    \n",
       "x8           0.014320   0.047079   0.304 0.761149    \n",
       "x9           0.007157   0.046968   0.152 0.878965    \n",
       "x10         -0.019742   0.046566  -0.424 0.671810    \n",
       "x11         -0.057537   0.046041  -1.250 0.212116    \n",
       "x12          0.161945   0.045965   3.523 0.000473 ***\n",
       "---\n",
       "Signif. codes:  0 '***' 0.001 '**' 0.01 '*' 0.05 '.' 0.1 ' ' 1\n",
       "\n",
       "Residual standard error: 0.03365 on 419 degrees of freedom\n",
       "Multiple R-squared:  0.1248,\tAdjusted R-squared:  0.0997 \n",
       "F-statistic: 4.978 on 12 and 419 DF,  p-value: 9.742e-08\n"
      ]
     },
     "metadata": {},
     "output_type": "display_data"
    }
   ],
   "source": [
    "source(\"archTest.R\")\n",
    "archTest(y, 12)"
   ]
  },
  {
   "cell_type": "code",
   "execution_count": 13,
   "metadata": {},
   "outputs": [
    {
     "data": {
      "text/html": [
       "<table>\n",
       "<thead><tr><th scope=col>date</th><th scope=col>ko</th><th scope=col>sp</th></tr></thead>\n",
       "<tbody>\n",
       "\t<tr><td>19610131 </td><td> 0.009331</td><td> 0.063156</td></tr>\n",
       "\t<tr><td>19610228 </td><td> 0.103236</td><td> 0.026870</td></tr>\n",
       "\t<tr><td>19610330 </td><td> 0.012291</td><td> 0.025536</td></tr>\n",
       "\t<tr><td>19610428 </td><td>-0.050000</td><td> 0.003843</td></tr>\n",
       "\t<tr><td>19610531 </td><td> 0.087719</td><td> 0.019139</td></tr>\n",
       "\t<tr><td>19610630 </td><td>-0.058065</td><td>-0.028846</td></tr>\n",
       "</tbody>\n",
       "</table>\n"
      ],
      "text/latex": [
       "\\begin{tabular}{r|lll}\n",
       " date & ko & sp\\\\\n",
       "\\hline\n",
       "\t 19610131  &  0.009331 &  0.063156\\\\\n",
       "\t 19610228  &  0.103236 &  0.026870\\\\\n",
       "\t 19610330  &  0.012291 &  0.025536\\\\\n",
       "\t 19610428  & -0.050000 &  0.003843\\\\\n",
       "\t 19610531  &  0.087719 &  0.019139\\\\\n",
       "\t 19610630  & -0.058065 & -0.028846\\\\\n",
       "\\end{tabular}\n"
      ],
      "text/markdown": [
       "\n",
       "| date | ko | sp |\n",
       "|---|---|---|\n",
       "| 19610131  |  0.009331 |  0.063156 |\n",
       "| 19610228  |  0.103236 |  0.026870 |\n",
       "| 19610330  |  0.012291 |  0.025536 |\n",
       "| 19610428  | -0.050000 |  0.003843 |\n",
       "| 19610531  |  0.087719 |  0.019139 |\n",
       "| 19610630  | -0.058065 | -0.028846 |\n",
       "\n"
      ],
      "text/plain": [
       "  date     ko        sp       \n",
       "1 19610131  0.009331  0.063156\n",
       "2 19610228  0.103236  0.026870\n",
       "3 19610330  0.012291  0.025536\n",
       "4 19610428 -0.050000  0.003843\n",
       "5 19610531  0.087719  0.019139\n",
       "6 19610630 -0.058065 -0.028846"
      ]
     },
     "metadata": {},
     "output_type": "display_data"
    }
   ],
   "source": [
    "da <- read.table(\"data/m-ko-6111.txt\", header = T)\n",
    "head(da)"
   ]
  },
  {
   "cell_type": "code",
   "execution_count": 16,
   "metadata": {
    "cell_style": "center"
   },
   "outputs": [
    {
     "data": {
      "image/png": "[encoded data removed]",
      "text/plain": [
       "plot without title"
      ]
     },
     "metadata": {},
     "output_type": "display_data"
    }
   ],
   "source": [
    "ko <- log(da$ko + 1)\n",
    "rts <- ts(ko, frequency = 12, start = c(1961, 1))\n",
    "plot(rts, type = \"l\", xlab = \"year\", ylab = \"ln-rts\")"
   ]
  },
  {
   "cell_type": "code",
   "execution_count": 18,
   "metadata": {},
   "outputs": [
    {
     "data": {
      "text/plain": [
       "\n",
       "\tOne Sample t-test\n",
       "\n",
       "data:  ko\n",
       "t = 4.2198, df = 608, p-value = 2.819e-05\n",
       "alternative hypothesis: true mean is not equal to 0\n",
       "95 percent confidence interval:\n",
       " 0.005655242 0.015501584\n",
       "sample estimates:\n",
       " mean of x \n",
       "0.01057841 \n"
      ]
     },
     "metadata": {},
     "output_type": "display_data"
    }
   ],
   "source": [
    "t.test(ko)"
   ]
  },
  {
   "cell_type": "code",
   "execution_count": 19,
   "metadata": {},
   "outputs": [
    {
     "data": {
      "text/plain": [
       "\n",
       "\tBox-Ljung test\n",
       "\n",
       "data:  ko\n",
       "X-squared = 14.821, df = 12, p-value = 0.2514\n"
      ]
     },
     "metadata": {},
     "output_type": "display_data"
    }
   ],
   "source": [
    "Box.test(ko, lag = 12, type = \"Ljung\")"
   ]
  },
  {
   "cell_type": "code",
   "execution_count": 26,
   "metadata": {},
   "outputs": [
    {
     "data": {
      "image/png": "[encoded data removed]",
      "text/plain": [
       "Plot with title \"Series  ko * ko\""
      ]
     },
     "metadata": {},
     "output_type": "display_data"
    }
   ],
   "source": [
    "par(mfcol = c(3, 1))\n",
    "acf(ko, lag = 24)\n",
    "acf(ko * ko, lag = 24)\n",
    "pacf(ko * ko, lag = 20)"
   ]
  },
  {
   "cell_type": "code",
   "execution_count": 25,
   "metadata": {},
   "outputs": [
    {
     "data": {
      "text/plain": [
       "\n",
       "\tBox-Ljung test\n",
       "\n",
       "data:  ko * ko\n",
       "X-squared = 171.8, df = 12, p-value < 2.2e-16\n"
      ]
     },
     "metadata": {},
     "output_type": "display_data"
    }
   ],
   "source": [
    "Box.test(ko * ko, lag = 12, type = \"Ljung\")"
   ]
  },
  {
   "cell_type": "code",
   "execution_count": 22,
   "metadata": {},
   "outputs": [
    {
     "data": {
      "text/plain": [
       "\n",
       "\tBox-Ljung test\n",
       "\n",
       "data:  y^2\n",
       "X-squared = 184.93, df = 12, p-value < 2.2e-16\n"
      ]
     },
     "metadata": {},
     "output_type": "display_data"
    }
   ],
   "source": [
    "y = ko - mean(ko)\n",
    "Box.test(y^2, lag = 12, type = \"Ljung\")"
   ]
  },
  {
   "cell_type": "code",
   "execution_count": 23,
   "metadata": {},
   "outputs": [
    {
     "data": {
      "text/plain": [
       "\n",
       "Call:\n",
       "lm(formula = atsq ~ x)\n",
       "\n",
       "Residuals:\n",
       "      Min        1Q    Median        3Q       Max \n",
       "-0.020771 -0.002807 -0.001545  0.000666  0.099244 \n",
       "\n",
       "Coefficients:\n",
       "              Estimate Std. Error t value Pr(>|t|)    \n",
       "(Intercept)  0.0015671  0.0004379   3.578 0.000374 ***\n",
       "x1           0.2056943  0.0413608   4.973 8.67e-07 ***\n",
       "x2           0.2481802  0.0421593   5.887 6.65e-09 ***\n",
       "x3          -0.0263466  0.0432095  -0.610 0.542271    \n",
       "x4           0.0781499  0.0432051   1.809 0.070995 .  \n",
       "x5          -0.0262333  0.0433213  -0.606 0.545048    \n",
       "x6           0.0631800  0.0432992   1.459 0.145062    \n",
       "x7          -0.0381006  0.0432942  -0.880 0.379200    \n",
       "x8          -0.0101886  0.0433062  -0.235 0.814083    \n",
       "x9          -0.0276711  0.0431917  -0.641 0.521997    \n",
       "x10          0.0968461  0.0431845   2.243 0.025296 *  \n",
       "x11          0.0086381  0.0421235   0.205 0.837592    \n",
       "x12          0.0180950  0.0412754   0.438 0.661262    \n",
       "---\n",
       "Signif. codes:  0 '***' 0.001 '**' 0.01 '*' 0.05 '.' 0.1 ' ' 1\n",
       "\n",
       "Residual standard error: 0.007753 on 584 degrees of freedom\n",
       "Multiple R-squared:  0.1723,\tAdjusted R-squared:  0.1553 \n",
       "F-statistic: 10.13 on 12 and 584 DF,  p-value: < 2.2e-16\n"
      ]
     },
     "metadata": {},
     "output_type": "display_data"
    }
   ],
   "source": [
    "source(\"archTest.R\")\n",
    "archTest(y, 12)"
   ]
  },
  {
   "cell_type": "code",
   "execution_count": 30,
   "metadata": {},
   "outputs": [
    {
     "data": {
      "text/plain": [
       "\n",
       "Call:\n",
       "lm(formula = atsq ~ x)\n",
       "\n",
       "Residuals:\n",
       "      Min        1Q    Median        3Q       Max \n",
       "-0.022670 -0.002763 -0.001740  0.000537  0.099249 \n",
       "\n",
       "Coefficients:\n",
       "              Estimate Std. Error t value Pr(>|t|)    \n",
       "(Intercept)  0.0018477  0.0003813   4.845 1.61e-06 ***\n",
       "x1           0.1980520  0.0406175   4.876 1.39e-06 ***\n",
       "x2           0.2625064  0.0413694   6.345 4.37e-10 ***\n",
       "x3          -0.0444181  0.0413537  -1.074   0.2832    \n",
       "x4           0.1005805  0.0406039   2.477   0.0135 *  \n",
       "---\n",
       "Signif. codes:  0 '***' 0.001 '**' 0.01 '*' 0.05 '.' 0.1 ' ' 1\n",
       "\n",
       "Residual standard error: 0.007737 on 600 degrees of freedom\n",
       "Multiple R-squared:  0.1557,\tAdjusted R-squared:  0.1501 \n",
       "F-statistic: 27.67 on 4 and 600 DF,  p-value: < 2.2e-16\n"
      ]
     },
     "metadata": {},
     "output_type": "display_data"
    }
   ],
   "source": [
    "archTest(y, 4)"
   ]
  },
  {
   "cell_type": "code",
   "execution_count": 34,
   "metadata": {},
   "outputs": [],
   "source": [
    "library(fGarch)\n",
    "da <- read.table(\"data/m-intcsp7309.txt\", header = T)\n",
    "intc <- log(da$intc + 1)"
   ]
  },
  {
   "cell_type": "code",
   "execution_count": null,
   "metadata": {},
   "outputs": [],
   "source": []
  }
 ],
 "metadata": {
  "kernelspec": {
   "display_name": "R",
   "language": "R",
   "name": "ir"
  },
  "language_info": {
   "codemirror_mode": "r",
   "file_extension": ".r",
   "mimetype": "text/x-r-source",
   "name": "R",
   "pygments_lexer": "r",
   "version": "3.6.1"
  },
  "toc": {
   "base_numbering": 1,
   "nav_menu": {},
   "number_sections": true,
   "sideBar": true,
   "skip_h1_title": false,
   "title_cell": "Table of Contents",
   "title_sidebar": "Contents",
   "toc_cell": false,
   "toc_position": {},
   "toc_section_display": true,
   "toc_window_display": false
  }
 },
 "nbformat": 4,
 "nbformat_minor": 2
}
