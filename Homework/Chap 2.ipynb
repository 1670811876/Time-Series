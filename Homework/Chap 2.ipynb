{
 "cells": [
  {
   "cell_type": "code",
   "execution_count": 1,
   "metadata": {},
   "outputs": [],
   "source": [
    "da = read.table(\"./data/m-dec12910.txt\", header=T)  # 读取文件"
   ]
  },
  {
   "cell_type": "code",
   "execution_count": 2,
   "metadata": {},
   "outputs": [
    {
     "data": {
      "text/html": [
       "<table>\n",
       "<thead><tr><th scope=col>date</th><th scope=col>dec1</th><th scope=col>dec2</th><th scope=col>dec9</th><th scope=col>dec10</th></tr></thead>\n",
       "<tbody>\n",
       "\t<tr><td>19670131 </td><td> 0.068568</td><td> 0.080373</td><td> 0.180843</td><td>0.211806 </td></tr>\n",
       "\t<tr><td>19670228 </td><td> 0.008735</td><td> 0.011044</td><td> 0.048767</td><td>0.064911 </td></tr>\n",
       "\t<tr><td>19670331 </td><td> 0.039698</td><td> 0.035364</td><td> 0.067494</td><td>0.068904 </td></tr>\n",
       "\t<tr><td>19670428 </td><td> 0.044030</td><td> 0.037541</td><td> 0.040785</td><td>0.044602 </td></tr>\n",
       "\t<tr><td>19670531 </td><td>-0.050631</td><td>-0.036233</td><td>-0.002191</td><td>0.000295 </td></tr>\n",
       "\t<tr><td>19670630 </td><td> 0.014998</td><td> 0.018870</td><td> 0.102075</td><td>0.118678 </td></tr>\n",
       "</tbody>\n",
       "</table>\n"
      ],
      "text/latex": [
       "\\begin{tabular}{r|lllll}\n",
       " date & dec1 & dec2 & dec9 & dec10\\\\\n",
       "\\hline\n",
       "\t 19670131  &  0.068568 &  0.080373 &  0.180843 & 0.211806 \\\\\n",
       "\t 19670228  &  0.008735 &  0.011044 &  0.048767 & 0.064911 \\\\\n",
       "\t 19670331  &  0.039698 &  0.035364 &  0.067494 & 0.068904 \\\\\n",
       "\t 19670428  &  0.044030 &  0.037541 &  0.040785 & 0.044602 \\\\\n",
       "\t 19670531  & -0.050631 & -0.036233 & -0.002191 & 0.000295 \\\\\n",
       "\t 19670630  &  0.014998 &  0.018870 &  0.102075 & 0.118678 \\\\\n",
       "\\end{tabular}\n"
      ],
      "text/markdown": [
       "\n",
       "| date | dec1 | dec2 | dec9 | dec10 |\n",
       "|---|---|---|---|---|\n",
       "| 19670131  |  0.068568 |  0.080373 |  0.180843 | 0.211806  |\n",
       "| 19670228  |  0.008735 |  0.011044 |  0.048767 | 0.064911  |\n",
       "| 19670331  |  0.039698 |  0.035364 |  0.067494 | 0.068904  |\n",
       "| 19670428  |  0.044030 |  0.037541 |  0.040785 | 0.044602  |\n",
       "| 19670531  | -0.050631 | -0.036233 | -0.002191 | 0.000295  |\n",
       "| 19670630  |  0.014998 |  0.018870 |  0.102075 | 0.118678  |\n",
       "\n"
      ],
      "text/plain": [
       "  date     dec1      dec2      dec9      dec10   \n",
       "1 19670131  0.068568  0.080373  0.180843 0.211806\n",
       "2 19670228  0.008735  0.011044  0.048767 0.064911\n",
       "3 19670331  0.039698  0.035364  0.067494 0.068904\n",
       "4 19670428  0.044030  0.037541  0.040785 0.044602\n",
       "5 19670531 -0.050631 -0.036233 -0.002191 0.000295\n",
       "6 19670630  0.014998  0.018870  0.102075 0.118678"
      ]
     },
     "metadata": {},
     "output_type": "display_data"
    }
   ],
   "source": [
    "head(da)  # 查看前六行数据"
   ]
  },
  {
   "cell_type": "code",
   "execution_count": 3,
   "metadata": {},
   "outputs": [],
   "source": [
    "d10 = da$dec10"
   ]
  },
  {
   "cell_type": "markdown",
   "metadata": {},
   "source": [
    "ts()生成时间序列，frequency=1表示年度数据，frequency=4表示季度数据，frequency=12表示月度数据"
   ]
  },
  {
   "cell_type": "code",
   "execution_count": 4,
   "metadata": {},
   "outputs": [],
   "source": [
    "dec10 = ts(d10, frequency=12, start=c(1967, 1))"
   ]
  },
  {
   "cell_type": "code",
   "execution_count": 5,
   "metadata": {},
   "outputs": [
    {
     "data": {
      "image/png": "[encoded data removed]",
      "text/plain": [
       "Plot with title \"Series  d10\""
      ]
     },
     "metadata": {},
     "output_type": "display_data"
    }
   ],
   "source": [
    "par(mfcol=c(2, 1))\n",
    "plot(dec10, xlab='year', ylab='returns')\n",
    "title(main=\"(a): Simple Returns\")\n",
    "acf(d10, lag=24)"
   ]
  },
  {
   "cell_type": "markdown",
   "metadata": {},
   "source": [
    "**混成检验**"
   ]
  },
  {
   "cell_type": "code",
   "execution_count": 6,
   "metadata": {},
   "outputs": [
    {
     "data": {
      "text/html": [
       "<table>\n",
       "<thead><tr><th scope=col>date</th><th scope=col>ibm</th><th scope=col>sp</th></tr></thead>\n",
       "<tbody>\n",
       "\t<tr><td>19670131 </td><td> 0.075370</td><td> 0.078178</td></tr>\n",
       "\t<tr><td>19670228 </td><td> 0.079099</td><td> 0.001963</td></tr>\n",
       "\t<tr><td>19670331 </td><td> 0.048837</td><td> 0.039410</td></tr>\n",
       "\t<tr><td>19670428 </td><td> 0.100887</td><td> 0.042239</td></tr>\n",
       "\t<tr><td>19670531 </td><td>-0.035234</td><td>-0.052441</td></tr>\n",
       "\t<tr><td>19670630 </td><td> 0.067024</td><td> 0.017512</td></tr>\n",
       "</tbody>\n",
       "</table>\n"
      ],
      "text/latex": [
       "\\begin{tabular}{r|lll}\n",
       " date & ibm & sp\\\\\n",
       "\\hline\n",
       "\t 19670131  &  0.075370 &  0.078178\\\\\n",
       "\t 19670228  &  0.079099 &  0.001963\\\\\n",
       "\t 19670331  &  0.048837 &  0.039410\\\\\n",
       "\t 19670428  &  0.100887 &  0.042239\\\\\n",
       "\t 19670531  & -0.035234 & -0.052441\\\\\n",
       "\t 19670630  &  0.067024 &  0.017512\\\\\n",
       "\\end{tabular}\n"
      ],
      "text/markdown": [
       "\n",
       "| date | ibm | sp |\n",
       "|---|---|---|\n",
       "| 19670131  |  0.075370 |  0.078178 |\n",
       "| 19670228  |  0.079099 |  0.001963 |\n",
       "| 19670331  |  0.048837 |  0.039410 |\n",
       "| 19670428  |  0.100887 |  0.042239 |\n",
       "| 19670531  | -0.035234 | -0.052441 |\n",
       "| 19670630  |  0.067024 |  0.017512 |\n",
       "\n"
      ],
      "text/plain": [
       "  date     ibm       sp       \n",
       "1 19670131  0.075370  0.078178\n",
       "2 19670228  0.079099  0.001963\n",
       "3 19670331  0.048837  0.039410\n",
       "4 19670428  0.100887  0.042239\n",
       "5 19670531 -0.035234 -0.052441\n",
       "6 19670630  0.067024  0.017512"
      ]
     },
     "metadata": {},
     "output_type": "display_data"
    }
   ],
   "source": [
    "da = read.table(\"data/m-ibmsp6709.txt\", header=T)\n",
    "head(da)"
   ]
  },
  {
   "cell_type": "code",
   "execution_count": 7,
   "metadata": {},
   "outputs": [],
   "source": [
    "ibm = da$ibm\n",
    "lnibm = log(ibm + 1)  # transfer to log returns"
   ]
  },
  {
   "cell_type": "code",
   "execution_count": 8,
   "metadata": {},
   "outputs": [
    {
     "data": {
      "image/png": "[encoded data removed]",
      "text/plain": [
       "Plot with title \"Series  lnibm\""
      ]
     },
     "metadata": {},
     "output_type": "display_data"
    }
   ],
   "source": [
    "par(mfcol=c(2, 1))\n",
    "acf(ibm, lag=24)\n",
    "acf(lnibm, lag=24)"
   ]
  },
  {
   "cell_type": "code",
   "execution_count": 9,
   "metadata": {},
   "outputs": [
    {
     "data": {
      "text/plain": [
       "\n",
       "\tBox-Ljung test\n",
       "\n",
       "data:  ibm\n",
       "X-squared = 7.5666, df = 12, p-value = 0.818\n"
      ]
     },
     "metadata": {},
     "output_type": "display_data"
    }
   ],
   "source": [
    "Box.test(ibm, lag=12, type='Ljung')"
   ]
  },
  {
   "cell_type": "code",
   "execution_count": 10,
   "metadata": {},
   "outputs": [
    {
     "data": {
      "text/plain": [
       "\n",
       "\tBox-Ljung test\n",
       "\n",
       "data:  lnibm\n",
       "X-squared = 7.4042, df = 12, p-value = 0.8298\n"
      ]
     },
     "metadata": {},
     "output_type": "display_data"
    }
   ],
   "source": [
    "Box.test(lnibm, lag=12, type='Ljung')"
   ]
  },
  {
   "cell_type": "code",
   "execution_count": 11,
   "metadata": {},
   "outputs": [
    {
     "data": {
      "text/plain": [
       "\n",
       "\tBox-Ljung test\n",
       "\n",
       "data:  ibm\n",
       "X-squared = 25.487, df = 24, p-value = 0.3797\n"
      ]
     },
     "metadata": {},
     "output_type": "display_data"
    }
   ],
   "source": [
    "Box.test(ibm, lag=24, type='Ljung')"
   ]
  },
  {
   "cell_type": "code",
   "execution_count": 12,
   "metadata": {},
   "outputs": [
    {
     "data": {
      "text/plain": [
       "\n",
       "\tBox-Ljung test\n",
       "\n",
       "data:  lnibm\n",
       "X-squared = 25.39, df = 24, p-value = 0.3848\n"
      ]
     },
     "metadata": {},
     "output_type": "display_data"
    }
   ],
   "source": [
    "Box.test(lnibm, lag=24, type='Ljung')"
   ]
  },
  {
   "cell_type": "markdown",
   "metadata": {},
   "source": [
    "**简单自回归模型**"
   ]
  },
  {
   "cell_type": "code",
   "execution_count": 13,
   "metadata": {},
   "outputs": [
    {
     "data": {
      "text/html": [
       "<table>\n",
       "<thead><tr><th scope=col>Year</th><th scope=col>Mon</th><th scope=col>Dat</th><th scope=col>VALUE</th></tr></thead>\n",
       "<tbody>\n",
       "\t<tr><td>1947 </td><td> 1   </td><td>1    </td><td>238.1</td></tr>\n",
       "\t<tr><td>1947 </td><td> 4   </td><td>1    </td><td>241.5</td></tr>\n",
       "\t<tr><td>1947 </td><td> 7   </td><td>1    </td><td>245.6</td></tr>\n",
       "\t<tr><td>1947 </td><td>10   </td><td>1    </td><td>255.6</td></tr>\n",
       "\t<tr><td>1948 </td><td> 1   </td><td>1    </td><td>261.7</td></tr>\n",
       "\t<tr><td>1948 </td><td> 4   </td><td>1    </td><td>268.7</td></tr>\n",
       "</tbody>\n",
       "</table>\n"
      ],
      "text/latex": [
       "\\begin{tabular}{r|llll}\n",
       " Year & Mon & Dat & VALUE\\\\\n",
       "\\hline\n",
       "\t 1947  &  1    & 1     & 238.1\\\\\n",
       "\t 1947  &  4    & 1     & 241.5\\\\\n",
       "\t 1947  &  7    & 1     & 245.6\\\\\n",
       "\t 1947  & 10    & 1     & 255.6\\\\\n",
       "\t 1948  &  1    & 1     & 261.7\\\\\n",
       "\t 1948  &  4    & 1     & 268.7\\\\\n",
       "\\end{tabular}\n"
      ],
      "text/markdown": [
       "\n",
       "| Year | Mon | Dat | VALUE |\n",
       "|---|---|---|---|\n",
       "| 1947  |  1    | 1     | 238.1 |\n",
       "| 1947  |  4    | 1     | 241.5 |\n",
       "| 1947  |  7    | 1     | 245.6 |\n",
       "| 1947  | 10    | 1     | 255.6 |\n",
       "| 1948  |  1    | 1     | 261.7 |\n",
       "| 1948  |  4    | 1     | 268.7 |\n",
       "\n"
      ],
      "text/plain": [
       "  Year Mon Dat VALUE\n",
       "1 1947  1  1   238.1\n",
       "2 1947  4  1   241.5\n",
       "3 1947  7  1   245.6\n",
       "4 1947 10  1   255.6\n",
       "5 1948  1  1   261.7\n",
       "6 1948  4  1   268.7"
      ]
     },
     "metadata": {},
     "output_type": "display_data"
    }
   ],
   "source": [
    "da = read.table(\"data/q-gnp4710.txt\", header=T)\n",
    "head(da)"
   ]
  },
  {
   "cell_type": "code",
   "execution_count": 14,
   "metadata": {},
   "outputs": [],
   "source": [
    "G = da$VALUE        # GNP序列\n",
    "LG = log(G)             # GNP序列的对数序列\n",
    "gnp = diff(LG)         # GNP序列的增长率"
   ]
  },
  {
   "cell_type": "code",
   "execution_count": 15,
   "metadata": {},
   "outputs": [
    {
     "data": {
      "text/html": [
       "<ol class=list-inline>\n",
       "\t<li>253</li>\n",
       "\t<li>4</li>\n",
       "</ol>\n"
      ],
      "text/latex": [
       "\\begin{enumerate*}\n",
       "\\item 253\n",
       "\\item 4\n",
       "\\end{enumerate*}\n"
      ],
      "text/markdown": [
       "1. 253\n",
       "2. 4\n",
       "\n",
       "\n"
      ],
      "text/plain": [
       "[1] 253   4"
      ]
     },
     "metadata": {},
     "output_type": "display_data"
    }
   ],
   "source": [
    "dim(da)"
   ]
  },
  {
   "cell_type": "code",
   "execution_count": 16,
   "metadata": {},
   "outputs": [],
   "source": [
    "tdx = c(1: 253) / 4 + 1947  # create the time index"
   ]
  },
  {
   "cell_type": "code",
   "execution_count": 18,
   "metadata": {},
   "outputs": [
    {
     "data": {
      "image/png": "[encoded data removed]",
      "text/plain": [
       "plot without title"
      ]
     },
     "metadata": {},
     "output_type": "display_data"
    }
   ],
   "source": [
    "par(mfcol=c(2, 1))\n",
    "plot(tdx, LG, xlab='year', ylab='GNP', type='l')\n",
    "plot(tdx[2:253], gnp, type='l', xlab='year', ylab='growth')"
   ]
  },
  {
   "cell_type": "code",
   "execution_count": 19,
   "metadata": {},
   "outputs": [
    {
     "data": {
      "image/png": "[encoded data removed]",
      "text/plain": [
       "Plot with title \"Series  gnp\""
      ]
     },
     "metadata": {},
     "output_type": "display_data"
    }
   ],
   "source": [
    "acf(gnp, lag=12)"
   ]
  },
  {
   "cell_type": "code",
   "execution_count": 20,
   "metadata": {},
   "outputs": [
    {
     "data": {
      "image/png": "[encoded data removed]",
      "text/plain": [
       "Plot with title \"Series  gnp\""
      ]
     },
     "metadata": {},
     "output_type": "display_data"
    }
   ],
   "source": [
    "pacf(gnp, lag=12)"
   ]
  },
  {
   "cell_type": "code",
   "execution_count": 21,
   "metadata": {},
   "outputs": [
    {
     "data": {
      "text/plain": [
       "\n",
       "Call:\n",
       "arima(x = gnp, order = c(3, 0, 0))\n",
       "\n",
       "Coefficients:\n",
       "         ar1     ar2      ar3  intercept\n",
       "      0.4386  0.2063  -0.1559     0.0163\n",
       "s.e.  0.0620  0.0666   0.0626     0.0012\n",
       "\n",
       "sigma^2 estimated as 9.549e-05:  log likelihood = 808.56,  aic = -1607.12"
      ]
     },
     "metadata": {},
     "output_type": "display_data"
    }
   ],
   "source": [
    "m1 = arima(gnp, order=c(3, 0, 0))\n",
    "m1"
   ]
  },
  {
   "cell_type": "code",
   "execution_count": 22,
   "metadata": {},
   "outputs": [
    {
     "data": {
      "image/png": "[encoded data removed]",
      "text/plain": [
       "Plot with title \"p values for Ljung-Box statistic\""
      ]
     },
     "metadata": {},
     "output_type": "display_data"
    }
   ],
   "source": [
    "tsdiag(m1, gof=12)"
   ]
  },
  {
   "cell_type": "code",
   "execution_count": 23,
   "metadata": {},
   "outputs": [
    {
     "data": {
      "text/html": [
       "<dl class=dl-horizontal>\n",
       "\t<dt>ar1</dt>\n",
       "\t\t<dd>0.438572614078296</dd>\n",
       "\t<dt>ar2</dt>\n",
       "\t\t<dd>0.206319215981368</dd>\n",
       "\t<dt>ar3</dt>\n",
       "\t\t<dd>-0.155946064095962</dd>\n",
       "\t<dt>intercept</dt>\n",
       "\t\t<dd>0.0163042518731768</dd>\n",
       "</dl>\n"
      ],
      "text/latex": [
       "\\begin{description*}\n",
       "\\item[ar1] 0.438572614078296\n",
       "\\item[ar2] 0.206319215981368\n",
       "\\item[ar3] -0.155946064095962\n",
       "\\item[intercept] 0.0163042518731768\n",
       "\\end{description*}\n"
      ],
      "text/markdown": [
       "ar1\n",
       ":   0.438572614078296ar2\n",
       ":   0.206319215981368ar3\n",
       ":   -0.155946064095962intercept\n",
       ":   0.0163042518731768\n",
       "\n"
      ],
      "text/plain": [
       "        ar1         ar2         ar3   intercept \n",
       " 0.43857261  0.20631922 -0.15594606  0.01630425 "
      ]
     },
     "metadata": {},
     "output_type": "display_data"
    }
   ],
   "source": [
    "m1$coef"
   ]
  },
  {
   "cell_type": "code",
   "execution_count": 24,
   "metadata": {},
   "outputs": [],
   "source": [
    "p1 = c(1, -m1$coef[1:3])"
   ]
  },
  {
   "cell_type": "code",
   "execution_count": 25,
   "metadata": {},
   "outputs": [
    {
     "data": {
      "text/html": [
       "<ol class=list-inline>\n",
       "\t<li>1.6161162397076+0.86421232415579i</li>\n",
       "\t<li>-1.90921597895123+0i</li>\n",
       "\t<li>1.6161162397076-0.86421232415579i</li>\n",
       "</ol>\n"
      ],
      "text/latex": [
       "\\begin{enumerate*}\n",
       "\\item 1.6161162397076+0.86421232415579i\n",
       "\\item -1.90921597895123+0i\n",
       "\\item 1.6161162397076-0.86421232415579i\n",
       "\\end{enumerate*}\n"
      ],
      "text/markdown": [
       "1. 1.6161162397076+0.86421232415579i\n",
       "2. -1.90921597895123+0i\n",
       "3. 1.6161162397076-0.86421232415579i\n",
       "\n",
       "\n"
      ],
      "text/plain": [
       "[1]  1.616116+0.864212i -1.909216+0.000000i  1.616116-0.864212i"
      ]
     },
     "metadata": {},
     "output_type": "display_data"
    }
   ],
   "source": [
    "r1 = polyroot(p1)\n",
    "r1"
   ]
  },
  {
   "cell_type": "code",
   "execution_count": 26,
   "metadata": {},
   "outputs": [
    {
     "data": {
      "text/html": [
       "<ol class=list-inline>\n",
       "\t<li>1.83267417766208</li>\n",
       "\t<li>1.90921597895123</li>\n",
       "\t<li>1.83267417766208</li>\n",
       "</ol>\n"
      ],
      "text/latex": [
       "\\begin{enumerate*}\n",
       "\\item 1.83267417766208\n",
       "\\item 1.90921597895123\n",
       "\\item 1.83267417766208\n",
       "\\end{enumerate*}\n"
      ],
      "text/markdown": [
       "1. 1.83267417766208\n",
       "2. 1.90921597895123\n",
       "3. 1.83267417766208\n",
       "\n",
       "\n"
      ],
      "text/plain": [
       "[1] 1.832674 1.909216 1.832674"
      ]
     },
     "metadata": {},
     "output_type": "display_data"
    }
   ],
   "source": [
    "Mod(r1)"
   ]
  },
  {
   "cell_type": "code",
   "execution_count": 27,
   "metadata": {},
   "outputs": [
    {
     "data": {
      "text/html": [
       "12.7952284502412"
      ],
      "text/latex": [
       "12.7952284502412"
      ],
      "text/markdown": [
       "12.7952284502412"
      ],
      "text/plain": [
       "[1] 12.79523"
      ]
     },
     "metadata": {},
     "output_type": "display_data"
    }
   ],
   "source": [
    "k = 2 * pi / acos(1.616116/1.832674)\n",
    "k"
   ]
  },
  {
   "cell_type": "markdown",
   "metadata": {},
   "source": [
    "**信息准则**"
   ]
  },
  {
   "cell_type": "code",
   "execution_count": 28,
   "metadata": {},
   "outputs": [
    {
     "data": {
      "text/plain": [
       "\n",
       "Call:\n",
       "ar(x = gnp, method = \"mle\")\n",
       "\n",
       "Coefficients:\n",
       "      1        2        3        4        5        6        7        8  \n",
       " 0.4318   0.1985  -0.1180   0.0189  -0.1607   0.0900   0.0615  -0.0814  \n",
       "      9  \n",
       " 0.1940  \n",
       "\n",
       "Order selected 9  sigma^2 estimated as  8.918e-05"
      ]
     },
     "metadata": {},
     "output_type": "display_data"
    }
   ],
   "source": [
    "mm1 = ar(gnp, method='mle')  # ar命令已经对AIC值进行了调整，使得AIC的最小值为0\n",
    "mm1"
   ]
  },
  {
   "cell_type": "code",
   "execution_count": 29,
   "metadata": {},
   "outputs": [
    {
     "data": {
      "text/html": [
       "9"
      ],
      "text/latex": [
       "9"
      ],
      "text/markdown": [
       "9"
      ],
      "text/plain": [
       "[1] 9"
      ]
     },
     "metadata": {},
     "output_type": "display_data"
    }
   ],
   "source": [
    "mm1$order"
   ]
  },
  {
   "cell_type": "code",
   "execution_count": 30,
   "metadata": {},
   "outputs": [
    {
     "data": {
      "text/html": [
       "<ol class=list-inline>\n",
       "\t<li>'order'</li>\n",
       "\t<li>'ar'</li>\n",
       "\t<li>'var.pred'</li>\n",
       "\t<li>'x.mean'</li>\n",
       "\t<li>'aic'</li>\n",
       "\t<li>'n.used'</li>\n",
       "\t<li>'n.obs'</li>\n",
       "\t<li>'order.max'</li>\n",
       "\t<li>'partialacf'</li>\n",
       "\t<li>'resid'</li>\n",
       "\t<li>'method'</li>\n",
       "\t<li>'series'</li>\n",
       "\t<li>'frequency'</li>\n",
       "\t<li>'call'</li>\n",
       "\t<li>'asy.var.coef'</li>\n",
       "</ol>\n"
      ],
      "text/latex": [
       "\\begin{enumerate*}\n",
       "\\item 'order'\n",
       "\\item 'ar'\n",
       "\\item 'var.pred'\n",
       "\\item 'x.mean'\n",
       "\\item 'aic'\n",
       "\\item 'n.used'\n",
       "\\item 'n.obs'\n",
       "\\item 'order.max'\n",
       "\\item 'partialacf'\n",
       "\\item 'resid'\n",
       "\\item 'method'\n",
       "\\item 'series'\n",
       "\\item 'frequency'\n",
       "\\item 'call'\n",
       "\\item 'asy.var.coef'\n",
       "\\end{enumerate*}\n"
      ],
      "text/markdown": [
       "1. 'order'\n",
       "2. 'ar'\n",
       "3. 'var.pred'\n",
       "4. 'x.mean'\n",
       "5. 'aic'\n",
       "6. 'n.used'\n",
       "7. 'n.obs'\n",
       "8. 'order.max'\n",
       "9. 'partialacf'\n",
       "10. 'resid'\n",
       "11. 'method'\n",
       "12. 'series'\n",
       "13. 'frequency'\n",
       "14. 'call'\n",
       "15. 'asy.var.coef'\n",
       "\n",
       "\n"
      ],
      "text/plain": [
       " [1] \"order\"        \"ar\"           \"var.pred\"     \"x.mean\"       \"aic\"         \n",
       " [6] \"n.used\"       \"n.obs\"        \"order.max\"    \"partialacf\"   \"resid\"       \n",
       "[11] \"method\"       \"series\"       \"frequency\"    \"call\"         \"asy.var.coef\""
      ]
     },
     "metadata": {},
     "output_type": "display_data"
    }
   ],
   "source": [
    "names(mm1)"
   ]
  },
  {
   "cell_type": "code",
   "execution_count": 31,
   "metadata": {},
   "outputs": [
    {
     "name": "stdout",
     "output_type": "stream",
     "text": [
      "     0      1      2      3      4      5      6      7      8      9     10 \n",
      "77.767 11.915  8.792  4.669  6.265  5.950  5.101  4.596  6.541  0.000  0.509 \n",
      "    11     12 \n",
      " 2.504  2.057 \n"
     ]
    }
   ],
   "source": [
    "print(mm1$aic, digits=3)"
   ]
  },
  {
   "cell_type": "code",
   "execution_count": 32,
   "metadata": {},
   "outputs": [
    {
     "data": {
      "text/html": [
       "13"
      ],
      "text/latex": [
       "13"
      ],
      "text/markdown": [
       "13"
      ],
      "text/plain": [
       "[1] 13"
      ]
     },
     "metadata": {},
     "output_type": "display_data"
    }
   ],
   "source": [
    "aic = mm1$aic\n",
    "length(aic)"
   ]
  },
  {
   "cell_type": "code",
   "execution_count": 33,
   "metadata": {},
   "outputs": [
    {
     "data": {
      "image/png": "[encoded data removed]",
      "text/plain": [
       "plot without title"
      ]
     },
     "metadata": {},
     "output_type": "display_data"
    }
   ],
   "source": [
    "plot(c(0:12), aic, type=\"h\", xlab=\"order\", ylab=\"aic\")\n",
    "lines(0:12, aic, lty=2)"
   ]
  },
  {
   "cell_type": "markdown",
   "metadata": {},
   "source": [
    "**模型检验**"
   ]
  },
  {
   "cell_type": "markdown",
   "metadata": {},
   "source": [
    "检查模型的充分性，如果模型是充分的，则其残差序列是白噪声。残差的样本自相关函数和Liung-Box统计量可用来检验$\\hat{a}_t$与白噪声的接近程度。"
   ]
  },
  {
   "cell_type": "code",
   "execution_count": 34,
   "metadata": {},
   "outputs": [],
   "source": [
    "vw = read.table(\"data/m-ibm3dx2608.txt\", header=T)[, 3]"
   ]
  },
  {
   "cell_type": "code",
   "execution_count": 35,
   "metadata": {},
   "outputs": [
    {
     "data": {
      "text/plain": [
       "\n",
       "Call:\n",
       "arima(x = vw, order = c(3, 0, 0))\n",
       "\n",
       "Coefficients:\n",
       "         ar1      ar2      ar3  intercept\n",
       "      0.1158  -0.0187  -0.1042     0.0089\n",
       "s.e.  0.0315   0.0317   0.0317     0.0017\n",
       "\n",
       "sigma^2 estimated as 0.002875:  log likelihood = 1500.86,  aic = -2991.73"
      ]
     },
     "metadata": {},
     "output_type": "display_data"
    }
   ],
   "source": [
    "m3 = arima(vw, order=c(3, 0, 0))  # 构建AR(3)模型\n",
    "m3"
   ]
  },
  {
   "cell_type": "code",
   "execution_count": 36,
   "metadata": {},
   "outputs": [
    {
     "data": {
      "text/html": [
       "0.0536188982667509"
      ],
      "text/latex": [
       "0.0536188982667509"
      ],
      "text/markdown": [
       "0.0536188982667509"
      ],
      "text/plain": [
       "[1] 0.0536189"
      ]
     },
     "metadata": {},
     "output_type": "display_data"
    }
   ],
   "source": [
    "sqrt(m3$sigma2)  # Compute the standard error of  residuals"
   ]
  },
  {
   "cell_type": "code",
   "execution_count": 37,
   "metadata": {},
   "outputs": [
    {
     "data": {
      "text/plain": [
       "\n",
       "\tBox-Ljung test\n",
       "\n",
       "data:  m3$residuals\n",
       "X-squared = 16.352, df = 12, p-value = 0.1756\n"
      ]
     },
     "metadata": {},
     "output_type": "display_data"
    }
   ],
   "source": [
    "Box.test(m3$residuals, lag=12, type=\"Ljung\")  # 白噪声检验"
   ]
  },
  {
   "cell_type": "code",
   "execution_count": 38,
   "metadata": {},
   "outputs": [
    {
     "data": {
      "text/plain": [
       "\n",
       "\tBox-Ljung test\n",
       "\n",
       "data:  m3$residuals\n",
       "X-squared = 15.506, df = 9, p-value = 0.07795\n"
      ]
     },
     "metadata": {},
     "output_type": "display_data"
    }
   ],
   "source": [
    "Box.test(m3$residuals, lag=9, type=\"Ljung\")"
   ]
  },
  {
   "cell_type": "markdown",
   "metadata": {},
   "source": [
    "固定$\\phi_2$为0"
   ]
  },
  {
   "cell_type": "code",
   "execution_count": 39,
   "metadata": {},
   "outputs": [
    {
     "data": {
      "text/plain": [
       "\n",
       "Call:\n",
       "arima(x = vw, order = c(3, 0, 0), transform.pars = F, fixed = c(NA, 0, NA, NA))\n",
       "\n",
       "Coefficients:\n",
       "         ar1  ar2      ar3  intercept\n",
       "      0.1136    0  -0.1063     0.0089\n",
       "s.e.  0.0313    0   0.0315     0.0017\n",
       "\n",
       "sigma^2 estimated as 0.002876:  log likelihood = 1500.69,  aic = -2993.38"
      ]
     },
     "metadata": {},
     "output_type": "display_data"
    }
   ],
   "source": [
    "m3 = arima(vw, order=c(3, 0, 0), fixed=c(NA, 0, NA, NA), transform.pars=F)\n",
    "m3"
   ]
  },
  {
   "cell_type": "code",
   "execution_count": 40,
   "metadata": {},
   "outputs": [
    {
     "data": {
      "text/plain": [
       "\n",
       "\tBox-Ljung test\n",
       "\n",
       "data:  m3$residuals\n",
       "X-squared = 16.828, df = 12, p-value = 0.1562\n"
      ]
     },
     "metadata": {},
     "output_type": "display_data"
    }
   ],
   "source": [
    "Box.test(m3$residuals, lag=12, type=\"Ljung\")"
   ]
  },
  {
   "cell_type": "markdown",
   "metadata": {},
   "source": [
    "## 简单移动平均模型"
   ]
  },
  {
   "cell_type": "markdown",
   "metadata": {},
   "source": [
    "MA(q)模型的为\n",
    "$$\n",
    "x_t=c_0+a_t-\\theta_1a_{t-1}-\\cdots-\\theta_qa_{t-q}\n",
    "$$\n",
    "或$x_t=c_0+(1-\\theta_1B-\\cdots-\\theta_qB^q)a_t$，其中$q>0$       \n",
    "对MA(q)模型，其ACF在间隔q时不为0，但对$l>q$，$\\rho_l=0$。因此，MA(q)序列只与前q个滞后值线性序列相关，模型的ACF在间隔为q以后是截尾的。"
   ]
  },
  {
   "cell_type": "code",
   "execution_count": 41,
   "metadata": {},
   "outputs": [
    {
     "data": {
      "text/html": [
       "<table>\n",
       "<thead><tr><th scope=col>date</th><th scope=col>ibmrtn</th><th scope=col>vwrtn</th><th scope=col>ewrtn</th><th scope=col>sprtn</th></tr></thead>\n",
       "<tbody>\n",
       "\t<tr><td>19260130 </td><td>-0.010381</td><td> 0.000724</td><td> 0.023174</td><td> 0.022472</td></tr>\n",
       "\t<tr><td>19260227 </td><td>-0.024476</td><td>-0.033374</td><td>-0.053510</td><td>-0.043956</td></tr>\n",
       "\t<tr><td>19260331 </td><td>-0.115591</td><td>-0.064341</td><td>-0.096824</td><td>-0.059113</td></tr>\n",
       "\t<tr><td>19260430 </td><td> 0.089783</td><td> 0.038358</td><td> 0.032946</td><td> 0.022688</td></tr>\n",
       "\t<tr><td>19260528 </td><td> 0.036932</td><td> 0.012172</td><td> 0.001035</td><td> 0.007679</td></tr>\n",
       "\t<tr><td>19260630 </td><td> 0.068493</td><td> 0.056888</td><td> 0.050487</td><td> 0.043184</td></tr>\n",
       "</tbody>\n",
       "</table>\n"
      ],
      "text/latex": [
       "\\begin{tabular}{r|lllll}\n",
       " date & ibmrtn & vwrtn & ewrtn & sprtn\\\\\n",
       "\\hline\n",
       "\t 19260130  & -0.010381 &  0.000724 &  0.023174 &  0.022472\\\\\n",
       "\t 19260227  & -0.024476 & -0.033374 & -0.053510 & -0.043956\\\\\n",
       "\t 19260331  & -0.115591 & -0.064341 & -0.096824 & -0.059113\\\\\n",
       "\t 19260430  &  0.089783 &  0.038358 &  0.032946 &  0.022688\\\\\n",
       "\t 19260528  &  0.036932 &  0.012172 &  0.001035 &  0.007679\\\\\n",
       "\t 19260630  &  0.068493 &  0.056888 &  0.050487 &  0.043184\\\\\n",
       "\\end{tabular}\n"
      ],
      "text/markdown": [
       "\n",
       "| date | ibmrtn | vwrtn | ewrtn | sprtn |\n",
       "|---|---|---|---|---|\n",
       "| 19260130  | -0.010381 |  0.000724 |  0.023174 |  0.022472 |\n",
       "| 19260227  | -0.024476 | -0.033374 | -0.053510 | -0.043956 |\n",
       "| 19260331  | -0.115591 | -0.064341 | -0.096824 | -0.059113 |\n",
       "| 19260430  |  0.089783 |  0.038358 |  0.032946 |  0.022688 |\n",
       "| 19260528  |  0.036932 |  0.012172 |  0.001035 |  0.007679 |\n",
       "| 19260630  |  0.068493 |  0.056888 |  0.050487 |  0.043184 |\n",
       "\n"
      ],
      "text/plain": [
       "  date     ibmrtn    vwrtn     ewrtn     sprtn    \n",
       "1 19260130 -0.010381  0.000724  0.023174  0.022472\n",
       "2 19260227 -0.024476 -0.033374 -0.053510 -0.043956\n",
       "3 19260331 -0.115591 -0.064341 -0.096824 -0.059113\n",
       "4 19260430  0.089783  0.038358  0.032946  0.022688\n",
       "5 19260528  0.036932  0.012172  0.001035  0.007679\n",
       "6 19260630  0.068493  0.056888  0.050487  0.043184"
      ]
     },
     "metadata": {},
     "output_type": "display_data"
    }
   ],
   "source": [
    "da = read.table(\"data/m-ibm3dx2608.txt\", head=T)\n",
    "head(da)"
   ]
  },
  {
   "cell_type": "code",
   "execution_count": 42,
   "metadata": {},
   "outputs": [
    {
     "data": {
      "text/plain": [
       "\n",
       "Call:\n",
       "arima(x = ew, order = c(0, 0, 9))\n",
       "\n",
       "Coefficients:\n",
       "         ma1     ma2      ma3      ma4     ma5      ma6     ma7      ma8\n",
       "      0.2144  0.0374  -0.1203  -0.0425  0.0232  -0.0302  0.0482  -0.0276\n",
       "s.e.  0.0316  0.0321   0.0328   0.0336  0.0319   0.0318  0.0364   0.0354\n",
       "         ma9  intercept\n",
       "      0.1350     0.0122\n",
       "s.e.  0.0323     0.0028\n",
       "\n",
       "sigma^2 estimated as 0.005043:  log likelihood = 1220.86,  aic = -2419.72"
      ]
     },
     "metadata": {},
     "output_type": "display_data"
    }
   ],
   "source": [
    "ew = da$ewrtn\n",
    "m1 = arima(ew, order=c(0, 0, 9))  # 建立MA(9)模型\n",
    "m1"
   ]
  },
  {
   "cell_type": "code",
   "execution_count": 43,
   "metadata": {},
   "outputs": [
    {
     "data": {
      "image/png": "[encoded data removed]",
      "text/plain": [
       "Plot with title \"Series  ew\""
      ]
     },
     "metadata": {},
     "output_type": "display_data"
    }
   ],
   "source": [
    "acf(ew)  # 为什么选择MA(9)模型"
   ]
  },
  {
   "cell_type": "code",
   "execution_count": 44,
   "metadata": {},
   "outputs": [
    {
     "data": {
      "text/plain": [
       "\n",
       "Call:\n",
       "arima(x = ew, order = c(0, 0, 9), fixed = c(NA, 0, NA, 0, 0, 0, 0, 0, NA, NA))\n",
       "\n",
       "Coefficients:\n",
       "         ma1  ma2      ma3  ma4  ma5  ma6  ma7  ma8     ma9  intercept\n",
       "      0.1909    0  -0.1199    0    0    0    0    0  0.1227     0.0122\n",
       "s.e.  0.0293    0   0.0338    0    0    0    0    0  0.0312     0.0027\n",
       "\n",
       "sigma^2 estimated as 0.005097:  log likelihood = 1215.61,  aic = -2421.22"
      ]
     },
     "metadata": {},
     "output_type": "display_data"
    }
   ],
   "source": [
    "m1 = arima(ew, order=c(0, 0, 9), fixed=c(NA, 0, NA, 0, 0, 0, 0, 0, NA, NA))\n",
    "m1"
   ]
  },
  {
   "cell_type": "code",
   "execution_count": 45,
   "metadata": {},
   "outputs": [
    {
     "data": {
      "text/html": [
       "0.071393674436443"
      ],
      "text/latex": [
       "0.071393674436443"
      ],
      "text/markdown": [
       "0.071393674436443"
      ],
      "text/plain": [
       "[1] 0.07139367"
      ]
     },
     "metadata": {},
     "output_type": "display_data"
    }
   ],
   "source": [
    "sqrt(m1$sigma2)"
   ]
  },
  {
   "cell_type": "code",
   "execution_count": 46,
   "metadata": {},
   "outputs": [
    {
     "data": {
      "text/plain": [
       "\n",
       "\tBox-Ljung test\n",
       "\n",
       "data:  m1$residuals\n",
       "X-squared = 17.604, df = 12, p-value = 0.1283\n"
      ]
     },
     "metadata": {},
     "output_type": "display_data"
    }
   ],
   "source": [
    "Box.test(m1$residuals, lag=12, type=\"Ljung\")  # model checking"
   ]
  },
  {
   "cell_type": "markdown",
   "metadata": {},
   "source": [
    "残差是白噪声，模型显著。         \n",
    "Q1：拟合的MA(9)模型中已经设置了lag=9，为什么在Box检验中还要设置lag，两者有怎么区别？"
   ]
  },
  {
   "cell_type": "code",
   "execution_count": 47,
   "metadata": {},
   "outputs": [
    {
     "data": {
      "text/plain": [
       "\n",
       "\tBox-Ljung test\n",
       "\n",
       "data:  m1$residuals\n",
       "X-squared = 9.383, df = 9, p-value = 0.4027\n"
      ]
     },
     "metadata": {},
     "output_type": "display_data"
    }
   ],
   "source": [
    "Box.test(m1$residuals, lag=9, type=\"Ljung\")"
   ]
  },
  {
   "cell_type": "code",
   "execution_count": 48,
   "metadata": {},
   "outputs": [
    {
     "data": {
      "text/plain": [
       "\n",
       "Call:\n",
       "arima(x = ew[1:986], order = c(0, 0, 9), fixed = c(NA, 0, NA, 0, 0, 0, 0, 0, \n",
       "    NA, NA))\n",
       "\n",
       "Coefficients:\n",
       "         ma1  ma2      ma3  ma4  ma5  ma6  ma7  ma8     ma9  intercept\n",
       "      0.1844    0  -0.1206    0    0    0    0    0  0.1218     0.0128\n",
       "s.e.  0.0295    0   0.0338    0    0    0    0    0  0.0312     0.0027\n",
       "\n",
       "sigma^2 estimated as 0.005066:  log likelihood = 1206.44,  aic = -2402.88"
      ]
     },
     "metadata": {},
     "output_type": "display_data"
    }
   ],
   "source": [
    "m1 = arima(ew[1:986], order=c(0, 0, 9), fixed=c(NA, 0, NA, 0, 0, 0, 0, 0, NA, NA))\n",
    "m1"
   ]
  },
  {
   "cell_type": "markdown",
   "metadata": {},
   "source": [
    "## 简单ARMA模型"
   ]
  },
  {
   "cell_type": "markdown",
   "metadata": {},
   "source": [
    "ARMA(p, q)模型的平稳性条件与AR(1)模型相同。\n",
    "一般ARMA(p, q)模型的形式为     \n",
    "$$\n",
    "x_t=\\phi_0+\\sum_{i=1}^p\\phi_ix_{t-i}+a_t-\\sum_{i=1}^p\\theta_ia_{t-i}\n",
    "$$"
   ]
  },
  {
   "cell_type": "code",
   "execution_count": 49,
   "metadata": {},
   "outputs": [
    {
     "data": {
      "text/html": [
       "<table>\n",
       "<thead><tr><th scope=col>date</th><th scope=col>rtn</th></tr></thead>\n",
       "<tbody>\n",
       "\t<tr><td>19460228 </td><td>-0.077922</td></tr>\n",
       "\t<tr><td>19460330 </td><td> 0.018592</td></tr>\n",
       "\t<tr><td>19460430 </td><td>-0.100000</td></tr>\n",
       "\t<tr><td>19460531 </td><td> 0.209877</td></tr>\n",
       "\t<tr><td>19460628 </td><td> 0.005128</td></tr>\n",
       "\t<tr><td>19460731 </td><td> 0.076531</td></tr>\n",
       "</tbody>\n",
       "</table>\n"
      ],
      "text/latex": [
       "\\begin{tabular}{r|ll}\n",
       " date & rtn\\\\\n",
       "\\hline\n",
       "\t 19460228  & -0.077922\\\\\n",
       "\t 19460330  &  0.018592\\\\\n",
       "\t 19460430  & -0.100000\\\\\n",
       "\t 19460531  &  0.209877\\\\\n",
       "\t 19460628  &  0.005128\\\\\n",
       "\t 19460731  &  0.076531\\\\\n",
       "\\end{tabular}\n"
      ],
      "text/markdown": [
       "\n",
       "| date | rtn |\n",
       "|---|---|\n",
       "| 19460228  | -0.077922 |\n",
       "| 19460330  |  0.018592 |\n",
       "| 19460430  | -0.100000 |\n",
       "| 19460531  |  0.209877 |\n",
       "| 19460628  |  0.005128 |\n",
       "| 19460731  |  0.076531 |\n",
       "\n"
      ],
      "text/plain": [
       "  date     rtn      \n",
       "1 19460228 -0.077922\n",
       "2 19460330  0.018592\n",
       "3 19460430 -0.100000\n",
       "4 19460531  0.209877\n",
       "5 19460628  0.005128\n",
       "6 19460731  0.076531"
      ]
     },
     "metadata": {},
     "output_type": "display_data"
    }
   ],
   "source": [
    "da = read.table(\"data/m-3m4608.txt\", header=T)\n",
    "head(da)"
   ]
  },
  {
   "cell_type": "code",
   "execution_count": 50,
   "metadata": {},
   "outputs": [],
   "source": [
    "mmm = log(da$rtn + 1)"
   ]
  },
  {
   "cell_type": "code",
   "execution_count": 51,
   "metadata": {},
   "outputs": [
    {
     "name": "stderr",
     "output_type": "stream",
     "text": [
      "\n",
      "Attaching package: 'TSA'\n",
      "\n",
      "The following objects are masked from 'package:stats':\n",
      "\n",
      "    acf, arima\n",
      "\n",
      "The following object is masked from 'package:utils':\n",
      "\n",
      "    tar\n",
      "\n"
     ]
    }
   ],
   "source": [
    "library(TSA)"
   ]
  },
  {
   "cell_type": "code",
   "execution_count": 52,
   "metadata": {},
   "outputs": [
    {
     "name": "stdout",
     "output_type": "stream",
     "text": [
      "AR/MA\n",
      "  0 1 2 3 4 5 6 7 8 9 10 11 12\n",
      "0 o o x o o x o o o x o  x  o \n",
      "1 x o x o o x o o o o o  x  o \n",
      "2 x x x o o x o o o o o  o  o \n",
      "3 x x x o o o o o o o o  o  o \n",
      "4 x o x o o o o o o o o  o  o \n",
      "5 x x x o x o o o o o o  o  o \n",
      "6 x x x x x o o o o o o  o  o \n"
     ]
    }
   ],
   "source": [
    "m1 = eacf(mmm, 6, 12)"
   ]
  },
  {
   "cell_type": "markdown",
   "metadata": {},
   "source": [
    "EACF表明公司股票的月对数收益率服从一个ARMA(0, 0)模型，也就是一个白噪声序列。"
   ]
  },
  {
   "cell_type": "markdown",
   "metadata": {},
   "source": [
    "**单位根检验**       \n",
    "为了检验资产的对数价格$p_i$是否服从随机游动或带漂移的随机游动，我们利用以下两个模型   \n",
    "$$\n",
    "p_t=\\phi_1p_{t-1}+e_t \\\\\n",
    "p_t=\\phi_0+\\phi_1p_{t-1}+e_t\n",
    "$$\n",
    "原假设$H_0:\\phi_1=1$，备择假设$\\phi_1<1$"
   ]
  },
  {
   "cell_type": "code",
   "execution_count": 53,
   "metadata": {},
   "outputs": [
    {
     "name": "stderr",
     "output_type": "stream",
     "text": [
      "Loading required package: timeDate\n",
      "\n",
      "Attaching package: 'timeDate'\n",
      "\n",
      "The following objects are masked from 'package:TSA':\n",
      "\n",
      "    kurtosis, skewness\n",
      "\n",
      "Loading required package: timeSeries\n",
      "Loading required package: fBasics\n"
     ]
    }
   ],
   "source": [
    "library(fUnitRoots)  # 单位根检验的包"
   ]
  },
  {
   "cell_type": "code",
   "execution_count": 54,
   "metadata": {},
   "outputs": [
    {
     "data": {
      "text/html": [
       "<table>\n",
       "<thead><tr><th scope=col>year</th><th scope=col>mon</th><th scope=col>day</th><th scope=col>gdp</th></tr></thead>\n",
       "<tbody>\n",
       "\t<tr><td>1947 </td><td> 1   </td><td>1    </td><td>237.2</td></tr>\n",
       "\t<tr><td>1947 </td><td> 4   </td><td>1    </td><td>240.5</td></tr>\n",
       "\t<tr><td>1947 </td><td> 7   </td><td>1    </td><td>244.6</td></tr>\n",
       "\t<tr><td>1947 </td><td>10   </td><td>1    </td><td>254.4</td></tr>\n",
       "\t<tr><td>1948 </td><td> 1   </td><td>1    </td><td>260.4</td></tr>\n",
       "\t<tr><td>1948 </td><td> 4   </td><td>1    </td><td>267.3</td></tr>\n",
       "</tbody>\n",
       "</table>\n"
      ],
      "text/latex": [
       "\\begin{tabular}{r|llll}\n",
       " year & mon & day & gdp\\\\\n",
       "\\hline\n",
       "\t 1947  &  1    & 1     & 237.2\\\\\n",
       "\t 1947  &  4    & 1     & 240.5\\\\\n",
       "\t 1947  &  7    & 1     & 244.6\\\\\n",
       "\t 1947  & 10    & 1     & 254.4\\\\\n",
       "\t 1948  &  1    & 1     & 260.4\\\\\n",
       "\t 1948  &  4    & 1     & 267.3\\\\\n",
       "\\end{tabular}\n"
      ],
      "text/markdown": [
       "\n",
       "| year | mon | day | gdp |\n",
       "|---|---|---|---|\n",
       "| 1947  |  1    | 1     | 237.2 |\n",
       "| 1947  |  4    | 1     | 240.5 |\n",
       "| 1947  |  7    | 1     | 244.6 |\n",
       "| 1947  | 10    | 1     | 254.4 |\n",
       "| 1948  |  1    | 1     | 260.4 |\n",
       "| 1948  |  4    | 1     | 267.3 |\n",
       "\n"
      ],
      "text/plain": [
       "  year mon day gdp  \n",
       "1 1947  1  1   237.2\n",
       "2 1947  4  1   240.5\n",
       "3 1947  7  1   244.6\n",
       "4 1947 10  1   254.4\n",
       "5 1948  1  1   260.4\n",
       "6 1948  4  1   267.3"
      ]
     },
     "metadata": {},
     "output_type": "display_data"
    }
   ],
   "source": [
    "da = read.table(\"data/q-gdp4708.txt\", header=T)\n",
    "head(da)"
   ]
  },
  {
   "cell_type": "code",
   "execution_count": 55,
   "metadata": {},
   "outputs": [
    {
     "data": {
      "text/html": [
       "10"
      ],
      "text/latex": [
       "10"
      ],
      "text/markdown": [
       "10"
      ],
      "text/plain": [
       "[1] 10"
      ]
     },
     "metadata": {},
     "output_type": "display_data"
    }
   ],
   "source": [
    "gdp = log(da$gdp)\n",
    "m1 = ar(diff(gdp), method='mle')  # 选择准则\n",
    "m1$order"
   ]
  },
  {
   "cell_type": "code",
   "execution_count": 56,
   "metadata": {},
   "outputs": [
    {
     "data": {
      "text/plain": [
       "\n",
       "Title:\n",
       " Augmented Dickey-Fuller Test\n",
       "\n",
       "Test Results:\n",
       "  PARAMETER:\n",
       "    Lag Order: 10\n",
       "  STATISTIC:\n",
       "    Dickey-Fuller: -1.6109\n",
       "  P VALUE:\n",
       "    0.4569 \n",
       "\n",
       "Description:\n",
       " Thu Nov 21 09:10:06 2019 by user: PC\n"
      ]
     },
     "metadata": {},
     "output_type": "display_data"
    }
   ],
   "source": [
    "adfTest(gdp, lags=10, type=c(\"c\"))"
   ]
  },
  {
   "cell_type": "markdown",
   "metadata": {},
   "source": [
    "单位根假设不能被拒绝。"
   ]
  },
  {
   "cell_type": "code",
   "execution_count": 57,
   "metadata": {},
   "outputs": [
    {
     "data": {
      "text/html": [
       "<table>\n",
       "<thead><tr><th scope=col>year</th><th scope=col>mon</th><th scope=col>day</th><th scope=col>open</th><th scope=col>high</th><th scope=col>low</th><th scope=col>close</th><th scope=col>volume</th><th scope=col>adjclose</th></tr></thead>\n",
       "<tbody>\n",
       "\t<tr><td>1950   </td><td>1      </td><td> 3     </td><td>16.66  </td><td>16.66  </td><td>16.66  </td><td>16.66  </td><td>1260000</td><td>16.66  </td></tr>\n",
       "\t<tr><td>1950   </td><td>1      </td><td> 4     </td><td>16.85  </td><td>16.85  </td><td>16.85  </td><td>16.85  </td><td>1890000</td><td>16.85  </td></tr>\n",
       "\t<tr><td>1950   </td><td>1      </td><td> 5     </td><td>16.93  </td><td>16.93  </td><td>16.93  </td><td>16.93  </td><td>2550000</td><td>16.93  </td></tr>\n",
       "\t<tr><td>1950   </td><td>1      </td><td> 6     </td><td>16.98  </td><td>16.98  </td><td>16.98  </td><td>16.98  </td><td>2010000</td><td>16.98  </td></tr>\n",
       "\t<tr><td>1950   </td><td>1      </td><td> 9     </td><td>17.08  </td><td>17.08  </td><td>17.08  </td><td>17.08  </td><td>2520000</td><td>17.08  </td></tr>\n",
       "\t<tr><td>1950   </td><td>1      </td><td>10     </td><td>17.03  </td><td>17.03  </td><td>17.03  </td><td>17.03  </td><td>2160000</td><td>17.03  </td></tr>\n",
       "</tbody>\n",
       "</table>\n"
      ],
      "text/latex": [
       "\\begin{tabular}{r|lllllllll}\n",
       " year & mon & day & open & high & low & close & volume & adjclose\\\\\n",
       "\\hline\n",
       "\t 1950    & 1       &  3      & 16.66   & 16.66   & 16.66   & 16.66   & 1260000 & 16.66  \\\\\n",
       "\t 1950    & 1       &  4      & 16.85   & 16.85   & 16.85   & 16.85   & 1890000 & 16.85  \\\\\n",
       "\t 1950    & 1       &  5      & 16.93   & 16.93   & 16.93   & 16.93   & 2550000 & 16.93  \\\\\n",
       "\t 1950    & 1       &  6      & 16.98   & 16.98   & 16.98   & 16.98   & 2010000 & 16.98  \\\\\n",
       "\t 1950    & 1       &  9      & 17.08   & 17.08   & 17.08   & 17.08   & 2520000 & 17.08  \\\\\n",
       "\t 1950    & 1       & 10      & 17.03   & 17.03   & 17.03   & 17.03   & 2160000 & 17.03  \\\\\n",
       "\\end{tabular}\n"
      ],
      "text/markdown": [
       "\n",
       "| year | mon | day | open | high | low | close | volume | adjclose |\n",
       "|---|---|---|---|---|---|---|---|---|\n",
       "| 1950    | 1       |  3      | 16.66   | 16.66   | 16.66   | 16.66   | 1260000 | 16.66   |\n",
       "| 1950    | 1       |  4      | 16.85   | 16.85   | 16.85   | 16.85   | 1890000 | 16.85   |\n",
       "| 1950    | 1       |  5      | 16.93   | 16.93   | 16.93   | 16.93   | 2550000 | 16.93   |\n",
       "| 1950    | 1       |  6      | 16.98   | 16.98   | 16.98   | 16.98   | 2010000 | 16.98   |\n",
       "| 1950    | 1       |  9      | 17.08   | 17.08   | 17.08   | 17.08   | 2520000 | 17.08   |\n",
       "| 1950    | 1       | 10      | 17.03   | 17.03   | 17.03   | 17.03   | 2160000 | 17.03   |\n",
       "\n"
      ],
      "text/plain": [
       "  year mon day open  high  low   close volume  adjclose\n",
       "1 1950 1    3  16.66 16.66 16.66 16.66 1260000 16.66   \n",
       "2 1950 1    4  16.85 16.85 16.85 16.85 1890000 16.85   \n",
       "3 1950 1    5  16.93 16.93 16.93 16.93 2550000 16.93   \n",
       "4 1950 1    6  16.98 16.98 16.98 16.98 2010000 16.98   \n",
       "5 1950 1    9  17.08 17.08 17.08 17.08 2520000 17.08   \n",
       "6 1950 1   10  17.03 17.03 17.03 17.03 2160000 17.03   "
      ]
     },
     "metadata": {},
     "output_type": "display_data"
    }
   ],
   "source": [
    "da = read.table(\"data/d-sp55008.txt\", header=T)\n",
    "head(da)"
   ]
  },
  {
   "cell_type": "code",
   "execution_count": 58,
   "metadata": {},
   "outputs": [
    {
     "data": {
      "text/html": [
       "2"
      ],
      "text/latex": [
       "2"
      ],
      "text/markdown": [
       "2"
      ],
      "text/plain": [
       "[1] 2"
      ]
     },
     "metadata": {},
     "output_type": "display_data"
    }
   ],
   "source": [
    "sp5 = log(da$close)\n",
    "m2 = ar(diff(sp5), method='mle')\n",
    "m2$order"
   ]
  },
  {
   "cell_type": "code",
   "execution_count": 59,
   "metadata": {},
   "outputs": [
    {
     "data": {
      "text/plain": [
       "\n",
       "Title:\n",
       " Augmented Dickey-Fuller Test\n",
       "\n",
       "Test Results:\n",
       "  PARAMETER:\n",
       "    Lag Order: 2\n",
       "  STATISTIC:\n",
       "    Dickey-Fuller: -2.0179\n",
       "  P VALUE:\n",
       "    0.5708 \n",
       "\n",
       "Description:\n",
       " Thu Nov 21 09:10:10 2019 by user: PC\n"
      ]
     },
     "metadata": {},
     "output_type": "display_data"
    }
   ],
   "source": [
    "adfTest(sp5, lags=2, type=c(\"ct\"))"
   ]
  },
  {
   "cell_type": "code",
   "execution_count": 60,
   "metadata": {},
   "outputs": [
    {
     "data": {
      "image/png": "[encoded data removed]",
      "text/plain": [
       "Plot with title \"Series  diff(sp5)\""
      ]
     },
     "metadata": {},
     "output_type": "display_data"
    }
   ],
   "source": [
    "pacf(diff(sp5))"
   ]
  },
  {
   "cell_type": "markdown",
   "metadata": {},
   "source": [
    "Q2：为什么基于PACF，选择p=15?   \n",
    "Q3：type=c(\"c\")和type=c(\"ct\")什么意思？            \n",
    "P71"
   ]
  },
  {
   "cell_type": "code",
   "execution_count": 61,
   "metadata": {},
   "outputs": [
    {
     "data": {
      "text/plain": [
       "\n",
       "Title:\n",
       " Augmented Dickey-Fuller Test\n",
       "\n",
       "Test Results:\n",
       "  PARAMETER:\n",
       "    Lag Order: 15\n",
       "  STATISTIC:\n",
       "    Dickey-Fuller: -1.9946\n",
       "  P VALUE:\n",
       "    0.5807 \n",
       "\n",
       "Description:\n",
       " Thu Nov 21 09:10:13 2019 by user: PC\n"
      ]
     },
     "metadata": {},
     "output_type": "display_data"
    }
   ],
   "source": [
    "adfTest(sp5, lags=15, type=c(\"ct\"))  # Based on PACF"
   ]
  },
  {
   "cell_type": "markdown",
   "metadata": {},
   "source": [
    "单位根的原假设不能被拒绝。"
   ]
  },
  {
   "cell_type": "code",
   "execution_count": 62,
   "metadata": {},
   "outputs": [
    {
     "data": {
      "text/plain": [
       "\n",
       "Call:\n",
       "arima(x = dsp5, order = c(2, 0, 0), xreg = tdx)\n",
       "\n",
       "Coefficients:\n",
       "         ar1      ar2  intercept  xreg\n",
       "      0.0721  -0.0387      4e-04     0\n",
       "s.e.  0.0083   0.0083      2e-04     0\n",
       "\n",
       "sigma^2 estimated as 8.068e-05:  log likelihood = 48286.95,  aic = -96565.91"
      ]
     },
     "metadata": {},
     "output_type": "display_data"
    }
   ],
   "source": [
    "dsp5 = diff(sp5)\n",
    "tdx = c(1:length(dsp5))\n",
    "m3 = arima(dsp5, order=c(2, 0, 0), xreg = tdx)\n",
    "m3"
   ]
  },
  {
   "cell_type": "markdown",
   "metadata": {},
   "source": [
    "Q4：xreg有什么作用？"
   ]
  },
  {
   "cell_type": "code",
   "execution_count": 63,
   "metadata": {},
   "outputs": [],
   "source": [
    "da = read.table(\"data/d-vix0810.txt\", header=T)"
   ]
  },
  {
   "cell_type": "code",
   "execution_count": 64,
   "metadata": {},
   "outputs": [
    {
     "data": {
      "text/html": [
       "496"
      ],
      "text/latex": [
       "496"
      ],
      "text/markdown": [
       "496"
      ],
      "text/plain": [
       "[1] 496"
      ]
     },
     "metadata": {},
     "output_type": "display_data"
    }
   ],
   "source": [
    "vix = log(da$Close)\n",
    "length(vix)"
   ]
  },
  {
   "cell_type": "code",
   "execution_count": 68,
   "metadata": {},
   "outputs": [],
   "source": [
    "library(xts)"
   ]
  },
  {
   "cell_type": "code",
   "execution_count": 69,
   "metadata": {
    "scrolled": true
   },
   "outputs": [
    {
     "data": {
      "image/png": "[encoded data removed]",
      "text/plain": [
       "plot without title"
      ]
     },
     "metadata": {},
     "output_type": "display_data"
    }
   ],
   "source": [
    "da$date = as.Date(paste(da$Year, da$Day, da$Mon, sep=\"-\"), format=\"%Y-%m-%d\")\n",
    "vix_ts = xts(x=vix, order.by=da$date)\n",
    "plot(vix_ts, type='l')"
   ]
  },
  {
   "cell_type": "code",
   "execution_count": 70,
   "metadata": {},
   "outputs": [
    {
     "data": {
      "text/plain": [
       "\n",
       "Call:\n",
       "arima(x = vix, order = c(0, 1, 1))\n",
       "\n",
       "Coefficients:\n",
       "          ma1\n",
       "      -0.1629\n",
       "s.e.   0.0497\n",
       "\n",
       "sigma^2 estimated as 0.004429:  log likelihood = 638.97,  aic = -1275.94"
      ]
     },
     "metadata": {},
     "output_type": "display_data"
    }
   ],
   "source": [
    "m1 = arima(vix, order=c(0, 1, 1))\n",
    "m1"
   ]
  },
  {
   "cell_type": "markdown",
   "metadata": {},
   "source": [
    "令$x_t=\\ln(\\operatorname{VIX}_t)$，拟合的模型为：\n",
    "$$\n",
    "(1-B)x_t=(1-0.1629B)a_t,\\qquad \\hat{\\sigma}_a^2=0.004429\n",
    "$$"
   ]
  },
  {
   "cell_type": "code",
   "execution_count": 71,
   "metadata": {},
   "outputs": [
    {
     "data": {
      "text/plain": [
       "\n",
       "\tBox-Ljung test\n",
       "\n",
       "data:  m1$residuals\n",
       "X-squared = 14.254, df = 10, p-value = 0.1617\n"
      ]
     },
     "metadata": {},
     "output_type": "display_data"
    }
   ],
   "source": [
    "Box.test(m1$residuals, lag=10, type=\"Ljung\")"
   ]
  },
  {
   "cell_type": "markdown",
   "metadata": {},
   "source": [
    "残差的Ljung-Box统计量表明拟合的ARIMA(0, 1, 1)模型时充分的。"
   ]
  },
  {
   "cell_type": "markdown",
   "metadata": {},
   "source": [
    "**可口可乐公司股票案例**"
   ]
  },
  {
   "cell_type": "code",
   "execution_count": 2,
   "metadata": {},
   "outputs": [
    {
     "data": {
      "text/html": [
       "<table>\n",
       "<thead><tr><th scope=col>pends</th><th scope=col>anntime</th><th scope=col>value</th></tr></thead>\n",
       "<tbody>\n",
       "\t<tr><td>19830331</td><td>19830426</td><td>0.0375  </td></tr>\n",
       "\t<tr><td>19830630</td><td>19830725</td><td>0.0492  </td></tr>\n",
       "\t<tr><td>19830930</td><td>19831102</td><td>0.0463  </td></tr>\n",
       "\t<tr><td>19831231</td><td>19840214</td><td>0.0379  </td></tr>\n",
       "\t<tr><td>19840331</td><td>19840419</td><td>0.0425  </td></tr>\n",
       "\t<tr><td>19840630</td><td>19840720</td><td>0.0583  </td></tr>\n",
       "</tbody>\n",
       "</table>\n"
      ],
      "text/latex": [
       "\\begin{tabular}{r|lll}\n",
       " pends & anntime & value\\\\\n",
       "\\hline\n",
       "\t 19830331 & 19830426 & 0.0375  \\\\\n",
       "\t 19830630 & 19830725 & 0.0492  \\\\\n",
       "\t 19830930 & 19831102 & 0.0463  \\\\\n",
       "\t 19831231 & 19840214 & 0.0379  \\\\\n",
       "\t 19840331 & 19840419 & 0.0425  \\\\\n",
       "\t 19840630 & 19840720 & 0.0583  \\\\\n",
       "\\end{tabular}\n"
      ],
      "text/markdown": [
       "\n",
       "| pends | anntime | value |\n",
       "|---|---|---|\n",
       "| 19830331 | 19830426 | 0.0375   |\n",
       "| 19830630 | 19830725 | 0.0492   |\n",
       "| 19830930 | 19831102 | 0.0463   |\n",
       "| 19831231 | 19840214 | 0.0379   |\n",
       "| 19840331 | 19840419 | 0.0425   |\n",
       "| 19840630 | 19840720 | 0.0583   |\n",
       "\n"
      ],
      "text/plain": [
       "  pends    anntime  value \n",
       "1 19830331 19830426 0.0375\n",
       "2 19830630 19830725 0.0492\n",
       "3 19830930 19831102 0.0463\n",
       "4 19831231 19840214 0.0379\n",
       "5 19840331 19840419 0.0425\n",
       "6 19840630 19840720 0.0583"
      ]
     },
     "metadata": {},
     "output_type": "display_data"
    }
   ],
   "source": [
    "da = read.table(\"data/q-ko-earns8309.txt\", header=T)\n",
    "head(da)"
   ]
  },
  {
   "cell_type": "code",
   "execution_count": 3,
   "metadata": {},
   "outputs": [
    {
     "data": {
      "image/png": "[encoded data removed]",
      "text/plain": [
       "plot without title"
      ]
     },
     "metadata": {},
     "output_type": "display_data"
    }
   ],
   "source": [
    "eps = log(da$value)\n",
    "koeps = ts(eps, frequency=4, start=c(1983, 1))\n",
    "c1 = c(\"2\", \"3\", \"4\", \"1\")\n",
    "c2 = c(\"1\", \"2\", \"3\", \"4\")\n",
    "plot(koeps, type=\"l\")\n",
    "points(koeps, pch=c1, cex=0.6)"
   ]
  },
  {
   "cell_type": "code",
   "execution_count": 4,
   "metadata": {},
   "outputs": [],
   "source": [
    "koeps = log(da$value)    # 对数价格\n",
    "deps = diff(koeps)       # 收益率\n",
    "sdeps = diff(koeps, 4)   # 季节差分\n",
    "ddeps = diff(sdeps)"
   ]
  },
  {
   "cell_type": "markdown",
   "metadata": {},
   "source": [
    "令对数盈利为$x_t$，从下图可看出每股季度对数盈利具有很强的前后相关性，所以考虑$x_t$的一阶差分序列\n",
    "$$\n",
    "\\Delta x_t = x_t - x_{t-1} = (1-B)x_t\n",
    "$$\n",
    "在时间序列分析中，通过差分来得到平稳性是一种惯用手法。"
   ]
  },
  {
   "cell_type": "code",
   "execution_count": 5,
   "metadata": {},
   "outputs": [
    {
     "data": {
      "image/png": "[encoded data removed]",
      "text/plain": [
       "Plot with title \"Series  ddeps\""
      ]
     },
     "metadata": {},
     "output_type": "display_data"
    }
   ],
   "source": [
    "par(mfrow=c(2, 2))\n",
    "acf(koeps, lag=20)\n",
    "acf(deps, lag=20)\n",
    "acf(sdeps, lag=20)\n",
    "acf(ddeps, lag=20)"
   ]
  },
  {
   "cell_type": "markdown",
   "metadata": {},
   "source": [
    "从$\\Delta x_t$样本的自相关函数图可以看出当滞后阶数是周期4的倍数时样本的自相关函数较大，我们对$\\Delta x_t$做季节差分来处理强季节模式。\n",
    "$$\n",
    "\\Delta_4(\\Delta x_t)=(1-B^4)\\Delta x_t=\\Delta x_t - \\Delta x_{t-4}=x_t-x_{t-1}-x_{t-4}+x_{t-5}\n",
    "$$"
   ]
  },
  {
   "cell_type": "code",
   "execution_count": 76,
   "metadata": {},
   "outputs": [
    {
     "data": {
      "image/png": "[encoded data removed]",
      "text/plain": [
       "plot without title"
      ]
     },
     "metadata": {},
     "output_type": "display_data"
    }
   ],
   "source": [
    "par(mfcol=c(3, 1))\n",
    "plot(deps, type=\"l\")\n",
    "points(deps, pch=c1, cex=0.7)\n",
    "plot(sdeps, type=\"l\")\n",
    "points(sdeps, pch=c2, cex=0.7)\n",
    "plot(ddeps, type=\"l\")\n",
    "points(ddeps, pch=c1, cex=0.7)"
   ]
  },
  {
   "cell_type": "markdown",
   "metadata": {},
   "source": [
    "从图中我们得知，    \n",
    "（1）通过差分，成功地移除了数据的向上的趋势；    \n",
    "（2）差分后的序列显示很强的季节性。     "
   ]
  },
  {
   "cell_type": "code",
   "execution_count": 77,
   "metadata": {},
   "outputs": [
    {
     "data": {
      "text/plain": [
       "\n",
       "Call:\n",
       "arima(x = koeps, order = c(0, 1, 1), seasonal = list(order = c(0, 1, 1), period = 4))\n",
       "\n",
       "Coefficients:\n",
       "          ma1     sma1\n",
       "      -0.4096  -0.8203\n",
       "s.e.   0.0866   0.0743\n",
       "\n",
       "sigma^2 estimated as 0.00724:  log likelihood = 104.25,  aic = -204.5"
      ]
     },
     "metadata": {},
     "output_type": "display_data"
    }
   ],
   "source": [
    "m1 = arima(koeps, order=c(0, 1, 1), seasonal=list(order=c(0, 1, 1), period=4))\n",
    "m1"
   ]
  },
  {
   "cell_type": "code",
   "execution_count": 78,
   "metadata": {},
   "outputs": [
    {
     "data": {
      "image/png": "[encoded data removed]",
      "text/plain": [
       "Plot with title \"p values for Ljung-Box statistic\""
      ]
     },
     "metadata": {},
     "output_type": "display_data"
    }
   ],
   "source": [
    "tsdiag(m1, gof=20)  # model checking"
   ]
  },
  {
   "cell_type": "code",
   "execution_count": 79,
   "metadata": {},
   "outputs": [
    {
     "data": {
      "text/plain": [
       "\n",
       "\tBox-Ljung test\n",
       "\n",
       "data:  m1$residuals\n",
       "X-squared = 13.303, df = 12, p-value = 0.3474\n"
      ]
     },
     "metadata": {},
     "output_type": "display_data"
    }
   ],
   "source": [
    "Box.test(m1$residuals, lag=12, type=\"Ljung\")"
   ]
  },
  {
   "cell_type": "code",
   "execution_count": 80,
   "metadata": {},
   "outputs": [
    {
     "data": {
      "text/html": [
       "107"
      ],
      "text/latex": [
       "107"
      ],
      "text/markdown": [
       "107"
      ],
      "text/plain": [
       "[1] 107"
      ]
     },
     "metadata": {},
     "output_type": "display_data"
    }
   ],
   "source": [
    "koeps = log(da$value)\n",
    "length(koeps)"
   ]
  },
  {
   "cell_type": "code",
   "execution_count": 81,
   "metadata": {},
   "outputs": [],
   "source": [
    "y = koeps[1:100]"
   ]
  },
  {
   "cell_type": "code",
   "execution_count": 82,
   "metadata": {},
   "outputs": [
    {
     "data": {
      "text/plain": [
       "\n",
       "Call:\n",
       "arima(x = y, order = c(0, 1, 1), seasonal = list(order = c(0, 1, 1), period = 4))\n",
       "\n",
       "Coefficients:\n",
       "          ma1     sma1\n",
       "      -0.4209  -0.8099\n",
       "s.e.   0.0874   0.0767\n",
       "\n",
       "sigma^2 estimated as 0.007432:  log likelihood = 95.78,  aic = -187.57"
      ]
     },
     "metadata": {},
     "output_type": "display_data"
    }
   ],
   "source": [
    "m1 = arima(y, order=c(0, 1, 1), seasonal=list(order=c(0, 1, 1), period=4))\n",
    "m1"
   ]
  },
  {
   "cell_type": "code",
   "execution_count": 83,
   "metadata": {},
   "outputs": [
    {
     "data": {
      "text/html": [
       "<ol class=list-inline>\n",
       "\t<li>'pred'</li>\n",
       "\t<li>'se'</li>\n",
       "</ol>\n"
      ],
      "text/latex": [
       "\\begin{enumerate*}\n",
       "\\item 'pred'\n",
       "\\item 'se'\n",
       "\\end{enumerate*}\n"
      ],
      "text/markdown": [
       "1. 'pred'\n",
       "2. 'se'\n",
       "\n",
       "\n"
      ],
      "text/plain": [
       "[1] \"pred\" \"se\"  "
      ]
     },
     "metadata": {},
     "output_type": "display_data"
    }
   ],
   "source": [
    "pm1 = predict(m1, 7)  # prediction\n",
    "names(pm1)"
   ]
  },
  {
   "cell_type": "code",
   "execution_count": 84,
   "metadata": {},
   "outputs": [],
   "source": [
    "pred = pm1$pred\n",
    "se = pm1$se"
   ]
  },
  {
   "cell_type": "code",
   "execution_count": 85,
   "metadata": {},
   "outputs": [
    {
     "data": {
      "text/html": [
       "28"
      ],
      "text/latex": [
       "28"
      ],
      "text/markdown": [
       "28"
      ],
      "text/plain": [
       "[1] 28"
      ]
     },
     "metadata": {},
     "output_type": "display_data"
    }
   ],
   "source": [
    "# Anti-log transformation\n",
    "ko = da$value\n",
    "fore = exp(pred + se^2 / 2)\n",
    "v1 = exp(2 * pred + se^2) * (exp(se^2) - 1)\n",
    "s1 = sqrt(v1)\n",
    "eps = ko[80:107]\n",
    "length(eps)"
   ]
  },
  {
   "cell_type": "code",
   "execution_count": 86,
   "metadata": {},
   "outputs": [
    {
     "data": {
      "text/html": [
       "0.37"
      ],
      "text/latex": [
       "0.37"
      ],
      "text/markdown": [
       "0.37"
      ],
      "text/plain": [
       "[1] 0.37"
      ]
     },
     "metadata": {},
     "output_type": "display_data"
    }
   ],
   "source": [
    "tdx = (c(1:28) + 3) / 4 + 2002\n",
    "upp = c(ko[100], fore + 2 * s1)\n",
    "low = c(ko[100], fore - 2 * s1)\n",
    "min(low, eps)"
   ]
  },
  {
   "cell_type": "code",
   "execution_count": 87,
   "metadata": {},
   "outputs": [
    {
     "data": {
      "text/html": [
       "1.26762333015165"
      ],
      "text/latex": [
       "1.26762333015165"
      ],
      "text/markdown": [
       "1.26762333015165"
      ],
      "text/plain": [
       "[1] 1.267623"
      ]
     },
     "metadata": {},
     "output_type": "display_data"
    }
   ],
   "source": [
    "max(upp, eps)"
   ]
  },
  {
   "cell_type": "code",
   "execution_count": 88,
   "metadata": {},
   "outputs": [
    {
     "data": {
      "image/png": "[encoded data removed]",
      "text/plain": [
       "plot without title"
      ]
     },
     "metadata": {},
     "output_type": "display_data"
    }
   ],
   "source": [
    "plot(tdx, eps, xlab=\"year\", ylab=\"earnings\", type=\"l\", ylim=c(0.35, 1.3))\n",
    "points(tdx[22:28], fore, pch=\"*\")\n",
    "lines(tdx[21:28], upp, lty=2)\n",
    "lines(tdx[21:28], low, lty=2)\n",
    "points(tdx[22:28], ko[101:107], pch=\"o\", cex=0.7)"
   ]
  },
  {
   "cell_type": "markdown",
   "metadata": {},
   "source": [
    "### 季节哑变量"
   ]
  },
  {
   "cell_type": "markdown",
   "metadata": {},
   "source": [
    "对于季度数据，哑变量分别代表春季、夏季、秋季和冬季。"
   ]
  },
  {
   "cell_type": "code",
   "execution_count": 6,
   "metadata": {},
   "outputs": [
    {
     "data": {
      "text/html": [
       "<table>\n",
       "<thead><tr><th scope=col>date</th><th scope=col>CAP1RET</th><th scope=col>CAP2RET</th><th scope=col>CAP9RET</th><th scope=col>CAP10RET</th></tr></thead>\n",
       "<tbody>\n",
       "\t<tr><td>19700130 </td><td> 0.054383</td><td>-0.004338</td><td>-0.073082</td><td>-0.076874</td></tr>\n",
       "\t<tr><td>19700227 </td><td> 0.020264</td><td> 0.020155</td><td> 0.064185</td><td> 0.059512</td></tr>\n",
       "\t<tr><td>19700331 </td><td>-0.031790</td><td>-0.028090</td><td>-0.004034</td><td>-0.001327</td></tr>\n",
       "\t<tr><td>19700430 </td><td>-0.184775</td><td>-0.193004</td><td>-0.115825</td><td>-0.091112</td></tr>\n",
       "\t<tr><td>19700529 </td><td>-0.088189</td><td>-0.085342</td><td>-0.085565</td><td>-0.053193</td></tr>\n",
       "\t<tr><td>19700630 </td><td>-0.059476</td><td>-0.085212</td><td>-0.046605</td><td>-0.048133</td></tr>\n",
       "</tbody>\n",
       "</table>\n"
      ],
      "text/latex": [
       "\\begin{tabular}{r|lllll}\n",
       " date & CAP1RET & CAP2RET & CAP9RET & CAP10RET\\\\\n",
       "\\hline\n",
       "\t 19700130  &  0.054383 & -0.004338 & -0.073082 & -0.076874\\\\\n",
       "\t 19700227  &  0.020264 &  0.020155 &  0.064185 &  0.059512\\\\\n",
       "\t 19700331  & -0.031790 & -0.028090 & -0.004034 & -0.001327\\\\\n",
       "\t 19700430  & -0.184775 & -0.193004 & -0.115825 & -0.091112\\\\\n",
       "\t 19700529  & -0.088189 & -0.085342 & -0.085565 & -0.053193\\\\\n",
       "\t 19700630  & -0.059476 & -0.085212 & -0.046605 & -0.048133\\\\\n",
       "\\end{tabular}\n"
      ],
      "text/markdown": [
       "\n",
       "| date | CAP1RET | CAP2RET | CAP9RET | CAP10RET |\n",
       "|---|---|---|---|---|\n",
       "| 19700130  |  0.054383 | -0.004338 | -0.073082 | -0.076874 |\n",
       "| 19700227  |  0.020264 |  0.020155 |  0.064185 |  0.059512 |\n",
       "| 19700331  | -0.031790 | -0.028090 | -0.004034 | -0.001327 |\n",
       "| 19700430  | -0.184775 | -0.193004 | -0.115825 | -0.091112 |\n",
       "| 19700529  | -0.088189 | -0.085342 | -0.085565 | -0.053193 |\n",
       "| 19700630  | -0.059476 | -0.085212 | -0.046605 | -0.048133 |\n",
       "\n"
      ],
      "text/plain": [
       "  date     CAP1RET   CAP2RET   CAP9RET   CAP10RET \n",
       "1 19700130  0.054383 -0.004338 -0.073082 -0.076874\n",
       "2 19700227  0.020264  0.020155  0.064185  0.059512\n",
       "3 19700331 -0.031790 -0.028090 -0.004034 -0.001327\n",
       "4 19700430 -0.184775 -0.193004 -0.115825 -0.091112\n",
       "5 19700529 -0.088189 -0.085342 -0.085565 -0.053193\n",
       "6 19700630 -0.059476 -0.085212 -0.046605 -0.048133"
      ]
     },
     "metadata": {},
     "output_type": "display_data"
    }
   ],
   "source": [
    "da = read.table(\"data/m-deciles08.txt\", header=T)\n",
    "head(da)"
   ]
  },
  {
   "cell_type": "code",
   "execution_count": 17,
   "metadata": {},
   "outputs": [
    {
     "data": {
      "text/plain": [
       "\n",
       "Call:\n",
       "lm(formula = d1 ~ jan)\n",
       "\n",
       "Residuals:\n",
       "     Min       1Q   Median       3Q      Max \n",
       "-0.30861 -0.03475 -0.00176  0.03254  0.40671 \n",
       "\n",
       "Coefficients:\n",
       "            Estimate Std. Error t value Pr(>|t|)    \n",
       "(Intercept) 0.002864   0.003333   0.859    0.391    \n",
       "jan         0.125251   0.011546  10.848   <2e-16 ***\n",
       "---\n",
       "Signif. codes:  0 '***' 0.001 '**' 0.01 '*' 0.05 '.' 0.1 ' ' 1\n",
       "\n",
       "Residual standard error: 0.06904 on 466 degrees of freedom\n",
       "Multiple R-squared:  0.2016,\tAdjusted R-squared:  0.1999 \n",
       "F-statistic: 117.7 on 1 and 466 DF,  p-value: < 2.2e-16\n"
      ]
     },
     "metadata": {},
     "output_type": "display_data"
    }
   ],
   "source": [
    "d1 = da[, 2]\n",
    "jan = rep(c(1, rep(0, 11)), 39)  # Create January dummy\n",
    "m1 = lm(d1 ~ jan)\n",
    "summary(m1)"
   ]
  },
  {
   "cell_type": "markdown",
   "metadata": {},
   "source": [
    "拟合的模型是$X_t=0.0029+0.1253Jan_t+e_t$"
   ]
  },
  {
   "cell_type": "code",
   "execution_count": 19,
   "metadata": {},
   "outputs": [
    {
     "data": {
      "text/plain": [
       "\n",
       "Call:\n",
       "arima(x = d1, order = c(1, 0, 0), seasonal = list(order = c(1, 0, 1), period = 12))\n",
       "\n",
       "Coefficients:\n",
       "         ar1    sar1     sma1  intercept\n",
       "      0.1769  0.9882  -0.9144     0.0118\n",
       "s.e.  0.0456  0.0093   0.0335     0.0129\n",
       "\n",
       "sigma^2 estimated as 0.004717:  log likelihood = 584.07,  aic = -1158.14"
      ]
     },
     "metadata": {},
     "output_type": "display_data"
    }
   ],
   "source": [
    "m2 = arima(d1, order=c(1, 0, 0), seasonal=list(order=c(1, 0, 1), period=12))\n",
    "m2"
   ]
  },
  {
   "cell_type": "code",
   "execution_count": 20,
   "metadata": {},
   "outputs": [
    {
     "data": {
      "image/png": "[encoded data removed]",
      "text/plain": [
       "Plot with title \"p values for Ljung-Box statistic\""
      ]
     },
     "metadata": {},
     "output_type": "display_data"
    }
   ],
   "source": [
    "tsdiag(m2, gof=36)"
   ]
  },
  {
   "cell_type": "code",
   "execution_count": 21,
   "metadata": {},
   "outputs": [
    {
     "data": {
      "text/plain": [
       "\n",
       "Call:\n",
       "arima(x = d1, order = c(1, 0, 0), seasonal = list(order = c(1, 0, 1), period = 12), \n",
       "    include.mean = F)\n",
       "\n",
       "Coefficients:\n",
       "         ar1    sar1     sma1\n",
       "      0.1787  0.9886  -0.9127\n",
       "s.e.  0.0456  0.0089   0.0335\n",
       "\n",
       "sigma^2 estimated as 0.00472:  log likelihood = 583.68,  aic = -1159.36"
      ]
     },
     "metadata": {},
     "output_type": "display_data"
    }
   ],
   "source": [
    "m2 = arima(d1, order=c(1, 0, 0), seasonal=list(order=c(1, 0, 1), period=12), include.mean=F)\n",
    "m2"
   ]
  },
  {
   "cell_type": "code",
   "execution_count": 22,
   "metadata": {},
   "outputs": [
    {
     "data": {
      "image/png": "[encoded data removed]",
      "text/plain": [
       "Plot with title \"p values for Ljung-Box statistic\""
      ]
     },
     "metadata": {},
     "output_type": "display_data"
    }
   ],
   "source": [
    "tsdiag(m2, gof=36)"
   ]
  },
  {
   "cell_type": "markdown",
   "metadata": {},
   "source": [
    "## 带时间序列误差的回归模型"
   ]
  },
  {
   "cell_type": "markdown",
   "metadata": {},
   "source": [
    "我们考虑如下形式的线性回归：\n",
    "$$\n",
    "y_t=\\alpha + \\beta x_t+e_t\n",
    "$$\n",
    "其中$y_t$和$x_t$为两个时间序列，$e_t$表示误差项。\n",
    "我们通过考虑如下两个美国周利率序列之间的关系来介绍该模型：    \n",
    "（1）$x_{1t}$：一年期固定期限国库券利率。          \n",
    "（2）$x_{3t}$：三年期固定期限国库券利率。"
   ]
  },
  {
   "cell_type": "code",
   "execution_count": 1,
   "metadata": {},
   "outputs": [],
   "source": [
    "r1 = read.table(\"data/w-gs1yr.txt\", header=T)[, 4]\n",
    "r3 = read.table(\"data/w-gs3yr.txt\", header=T)[, 4]"
   ]
  },
  {
   "cell_type": "code",
   "execution_count": 12,
   "metadata": {},
   "outputs": [
    {
     "data": {
      "image/png": "[encoded data removed]",
      "text/plain": [
       "plot without title"
      ]
     },
     "metadata": {},
     "output_type": "display_data"
    }
   ],
   "source": [
    "plot(r1, r3)"
   ]
  },
  {
   "cell_type": "code",
   "execution_count": 3,
   "metadata": {},
   "outputs": [
    {
     "data": {
      "text/plain": [
       "\n",
       "Call:\n",
       "lm(formula = r3 ~ r1)\n",
       "\n",
       "Residuals:\n",
       "     Min       1Q   Median       3Q      Max \n",
       "-1.82319 -0.37691 -0.01462  0.38661  1.35679 \n",
       "\n",
       "Coefficients:\n",
       "            Estimate Std. Error t value Pr(>|t|)    \n",
       "(Intercept)  0.83214    0.02417   34.43   <2e-16 ***\n",
       "r1           0.92955    0.00357  260.40   <2e-16 ***\n",
       "---\n",
       "Signif. codes:  0 '***' 0.001 '**' 0.01 '*' 0.05 '.' 0.1 ' ' 1\n",
       "\n",
       "Residual standard error: 0.5228 on 2465 degrees of freedom\n",
       "Multiple R-squared:  0.9649,\tAdjusted R-squared:  0.9649 \n",
       "F-statistic: 6.781e+04 on 1 and 2465 DF,  p-value: < 2.2e-16\n"
      ]
     },
     "metadata": {},
     "output_type": "display_data"
    }
   ],
   "source": [
    "m1 = lm(r3 ~ r1)\n",
    "summary(m1)"
   ]
  },
  {
   "cell_type": "markdown",
   "metadata": {},
   "source": [
    "由散点图我们可以看出两者存在明显的线性关系，所拟合的模型是\n",
    "$$\n",
    "x_{3t}=0.832+0.930x_{1t}+e_t,\\qquad \\hat{\\sigma}_e=0.523\n",
    "$$\n",
    "其中$R^2=96.5%$，所以该回归模型是高度显著的。"
   ]
  },
  {
   "cell_type": "code",
   "execution_count": 17,
   "metadata": {},
   "outputs": [
    {
     "data": {
      "image/png": "[encoded data removed]",
      "text/plain": [
       "Plot with title \"Series  m1$residuals\""
      ]
     },
     "metadata": {},
     "output_type": "display_data"
    }
   ],
   "source": [
    "par(mfcol=c(2, 1))\n",
    "plot(m1$residuals, type=\"l\")\n",
    "acf(m1$residuals, lag=36)"
   ]
  },
  {
   "cell_type": "markdown",
   "metadata": {},
   "source": [
    "残差时序图和残差ACF显示模型是严重不充分的。特别地，残差的样本ACF图是高度显著的，并且缓慢衰减，显示出单位根非平稳时间序列的特点。"
   ]
  },
  {
   "cell_type": "code",
   "execution_count": 20,
   "metadata": {},
   "outputs": [
    {
     "data": {
      "image/png": "[encoded data removed]",
      "text/plain": [
       "plot without title"
      ]
     },
     "metadata": {},
     "output_type": "display_data"
    }
   ],
   "source": [
    "c1 = diff(r1)\n",
    "c3 = diff(r3)\n",
    "plot(c1, c3)"
   ]
  },
  {
   "cell_type": "code",
   "execution_count": 21,
   "metadata": {},
   "outputs": [
    {
     "data": {
      "text/plain": [
       "\n",
       "Call:\n",
       "lm(formula = c3 ~ c1)\n",
       "\n",
       "Residuals:\n",
       "     Min       1Q   Median       3Q      Max \n",
       "-0.42459 -0.03578 -0.00117  0.03467  0.48921 \n",
       "\n",
       "Coefficients:\n",
       "              Estimate Std. Error t value Pr(>|t|)    \n",
       "(Intercept) -0.0001051  0.0013890  -0.076     0.94    \n",
       "c1           0.7919323  0.0073391 107.906   <2e-16 ***\n",
       "---\n",
       "Signif. codes:  0 '***' 0.001 '**' 0.01 '*' 0.05 '.' 0.1 ' ' 1\n",
       "\n",
       "Residual standard error: 0.06897 on 2464 degrees of freedom\n",
       "Multiple R-squared:  0.8253,\tAdjusted R-squared:  0.8253 \n",
       "F-statistic: 1.164e+04 on 1 and 2464 DF,  p-value: < 2.2e-16\n"
      ]
     },
     "metadata": {},
     "output_type": "display_data"
    }
   ],
   "source": [
    "m2 = lm(c3 ~ c1)\n",
    "summary(m2)"
   ]
  },
  {
   "cell_type": "markdown",
   "metadata": {},
   "source": [
    "由上图的结果可知，截距项为0的假设被接受。"
   ]
  },
  {
   "cell_type": "code",
   "execution_count": 22,
   "metadata": {},
   "outputs": [
    {
     "data": {
      "text/plain": [
       "\n",
       "Call:\n",
       "lm(formula = c3 ~ -1 + c1)\n",
       "\n",
       "Residuals:\n",
       "     Min       1Q   Median       3Q      Max \n",
       "-0.42469 -0.03589 -0.00127  0.03456  0.48911 \n",
       "\n",
       "Coefficients:\n",
       "   Estimate Std. Error t value Pr(>|t|)    \n",
       "c1 0.791935   0.007337   107.9   <2e-16 ***\n",
       "---\n",
       "Signif. codes:  0 '***' 0.001 '**' 0.01 '*' 0.05 '.' 0.1 ' ' 1\n",
       "\n",
       "Residual standard error: 0.06896 on 2465 degrees of freedom\n",
       "Multiple R-squared:  0.8253,\tAdjusted R-squared:  0.8253 \n",
       "F-statistic: 1.165e+04 on 1 and 2465 DF,  p-value: < 2.2e-16\n"
      ]
     },
     "metadata": {},
     "output_type": "display_data"
    }
   ],
   "source": [
    "m2 = lm(c3 ~ -1 + c1)\n",
    "summary(m2)"
   ]
  },
  {
   "cell_type": "markdown",
   "metadata": {},
   "source": [
    "由结果可知\n",
    "$$\n",
    "c_{3t}=0.792c_{1t}+e_t,\\qquad \\hat{\\sigma}_e=0.0690\n",
    "$$\n",
    "其中$R^2=82.53%$，此模型进一步证实了两种利率之间很强的线性相关性。"
   ]
  },
  {
   "cell_type": "code",
   "execution_count": 23,
   "metadata": {},
   "outputs": [
    {
     "data": {
      "image/png": "[encoded data removed]",
      "text/plain": [
       "Plot with title \"Series  m2$residuals\""
      ]
     },
     "metadata": {},
     "output_type": "display_data"
    }
   ],
   "source": [
    "par(mfcol=c(2, 1))\n",
    "plot(m2$residuals, type=\"l\")\n",
    "acf(m2$residuals, lag=36)"
   ]
  },
  {
   "cell_type": "markdown",
   "metadata": {},
   "source": [
    "从样本ACF看出，MA(1)模型对残差序列是适合的，把线性回归模型改为\n",
    "$$\n",
    "c_{3t}=\\beta c_{1t} + e_{t}, \\qquad e_t=a_t-\\theta_1a_{t-1}\n",
    "$$\n",
    "其中${a_t}$是一个白噪声序列。"
   ]
  },
  {
   "cell_type": "code",
   "execution_count": 52,
   "metadata": {},
   "outputs": [
    {
     "data": {
      "text/plain": [
       "\n",
       "\tOne Sample t-test\n",
       "\n",
       "data:  c3\n",
       "t = -0.28679, df = 2465, p-value = 0.7743\n",
       "alternative hypothesis: true mean is not equal to 0\n",
       "95 percent confidence interval:\n",
       " -0.007468847  0.005562926\n",
       "sample estimates:\n",
       "    mean of x \n",
       "-0.0009529603 \n"
      ]
     },
     "metadata": {},
     "output_type": "display_data"
    }
   ],
   "source": [
    "t.test(c3)"
   ]
  },
  {
   "cell_type": "code",
   "execution_count": 26,
   "metadata": {},
   "outputs": [
    {
     "data": {
      "text/plain": [
       "\n",
       "Call:\n",
       "arima(x = c3, order = c(0, 0, 1), xreg = c1, include.mean = F)\n",
       "\n",
       "Coefficients:\n",
       "         ma1      c1\n",
       "      0.1823  0.7936\n",
       "s.e.  0.0196  0.0075\n",
       "\n",
       "sigma^2 estimated as 0.0046:  log likelihood = 3136.62,  aic = -6267.23"
      ]
     },
     "metadata": {},
     "output_type": "display_data"
    }
   ],
   "source": [
    "m3 = arima(c3, order=c(0, 0, 1), xreg=c1, include.mean=F)\n",
    "m3"
   ]
  },
  {
   "cell_type": "markdown",
   "metadata": {},
   "source": [
    "所拟合的模型为\n",
    "$$\n",
    "c_{3t}=0.794c_{1t}+e_t, \\qquad e_t=a_t+0.1823a_{t-1}\n",
    "$$"
   ]
  },
  {
   "cell_type": "code",
   "execution_count": 28,
   "metadata": {},
   "outputs": [
    {
     "data": {
      "text/html": [
       "0.831007651496559"
      ],
      "text/latex": [
       "0.831007651496559"
      ],
      "text/markdown": [
       "0.831007651496559"
      ],
      "text/plain": [
       "[1] 0.8310077"
      ]
     },
     "metadata": {},
     "output_type": "display_data"
    }
   ],
   "source": [
    "rsq = (sum(c3^2) - sum(m3$residuals^2)) / sum(c3^2)\n",
    "rsq"
   ]
  },
  {
   "cell_type": "markdown",
   "metadata": {},
   "source": [
    "其中$R^2=83.1%$。        \n",
    "综上所述，该模型表明两个周利率序列有如下线性关系：\n",
    "$$\n",
    "x_{3t}=x_{3,t-1}+0.794(x_{1t}-x_{1,t-1})+a_t+0.1823a_{t-1}\n",
    "$$"
   ]
  },
  {
   "cell_type": "markdown",
   "metadata": {},
   "source": [
    "**小结**             \n",
    "我们给出分析带时间序列误差的线性回归模型的一般步骤：     \n",
    "（1）拟合一个线性回归模型并检验其残差的前后相关性。             \n",
    "（2）如果残差序列是单位根非平稳的，则对因变量和解释变量都做一阶差分。然后对两个差分后的序列进行第1步。若这时的残差序列是平稳的，则对残差序列识别一个ARMA模型并相应地修改线性回归模型。             \n",
    "（3）用最大似然法进行联合估计，并对模型进行检验，查看是否需要进一步改进。        \n",
    "为检验残差的前后相关性，推荐使用Ljung-Box统计量，而不使用Durbin-Watson(DW)统计量，因为后者只考虑到滞后阶数为1的前后相关性。"
   ]
  },
  {
   "cell_type": "markdown",
   "metadata": {},
   "source": [
    "## 长记忆模型"
   ]
  },
  {
   "cell_type": "markdown",
   "metadata": {},
   "source": [
    "长记忆时间序列的一个例子就是如下定义的**分数差分序列**:\n",
    "$$\n",
    "(1-B)^d x_t=a_t, \\quad -0.5<d<0.5\n",
    "$$\n",
    "其中$a_{t}$是一个白噪声。      \n",
    "在实际中，如果一个时间序列的样本ACF在数值上不大，但衰减得很慢，则该序列可能有长记忆。    \n",
    "我们考虑CRSP价值加权指数从1970年1月2日到2008年12月31日的绝对日收益率。"
   ]
  },
  {
   "cell_type": "code",
   "execution_count": 31,
   "metadata": {},
   "outputs": [
    {
     "data": {
      "text/html": [
       "<table>\n",
       "<thead><tr><th scope=col>Date</th><th scope=col>rtn</th><th scope=col>vwretd</th><th scope=col>ewretd</th><th scope=col>sprtrn</th></tr></thead>\n",
       "<tbody>\n",
       "\t<tr><td>19700102 </td><td> 0.000686</td><td> 0.012137</td><td> 0.033450</td><td> 0.010211</td></tr>\n",
       "\t<tr><td>19700105 </td><td> 0.009596</td><td> 0.006375</td><td> 0.018947</td><td> 0.004946</td></tr>\n",
       "\t<tr><td>19700106 </td><td> 0.000679</td><td>-0.007233</td><td>-0.005776</td><td>-0.006848</td></tr>\n",
       "\t<tr><td>19700107 </td><td> 0.000678</td><td>-0.001272</td><td> 0.003559</td><td>-0.002047</td></tr>\n",
       "\t<tr><td>19700108 </td><td> 0.002034</td><td> 0.000564</td><td> 0.002890</td><td> 0.000540</td></tr>\n",
       "\t<tr><td>19700109 </td><td>-0.001353</td><td>-0.002797</td><td>-0.002923</td><td>-0.003021</td></tr>\n",
       "</tbody>\n",
       "</table>\n"
      ],
      "text/latex": [
       "\\begin{tabular}{r|lllll}\n",
       " Date & rtn & vwretd & ewretd & sprtrn\\\\\n",
       "\\hline\n",
       "\t 19700102  &  0.000686 &  0.012137 &  0.033450 &  0.010211\\\\\n",
       "\t 19700105  &  0.009596 &  0.006375 &  0.018947 &  0.004946\\\\\n",
       "\t 19700106  &  0.000679 & -0.007233 & -0.005776 & -0.006848\\\\\n",
       "\t 19700107  &  0.000678 & -0.001272 &  0.003559 & -0.002047\\\\\n",
       "\t 19700108  &  0.002034 &  0.000564 &  0.002890 &  0.000540\\\\\n",
       "\t 19700109  & -0.001353 & -0.002797 & -0.002923 & -0.003021\\\\\n",
       "\\end{tabular}\n"
      ],
      "text/markdown": [
       "\n",
       "| Date | rtn | vwretd | ewretd | sprtrn |\n",
       "|---|---|---|---|---|\n",
       "| 19700102  |  0.000686 |  0.012137 |  0.033450 |  0.010211 |\n",
       "| 19700105  |  0.009596 |  0.006375 |  0.018947 |  0.004946 |\n",
       "| 19700106  |  0.000679 | -0.007233 | -0.005776 | -0.006848 |\n",
       "| 19700107  |  0.000678 | -0.001272 |  0.003559 | -0.002047 |\n",
       "| 19700108  |  0.002034 |  0.000564 |  0.002890 |  0.000540 |\n",
       "| 19700109  | -0.001353 | -0.002797 | -0.002923 | -0.003021 |\n",
       "\n"
      ],
      "text/plain": [
       "  Date     rtn       vwretd    ewretd    sprtrn   \n",
       "1 19700102  0.000686  0.012137  0.033450  0.010211\n",
       "2 19700105  0.009596  0.006375  0.018947  0.004946\n",
       "3 19700106  0.000679 -0.007233 -0.005776 -0.006848\n",
       "4 19700107  0.000678 -0.001272  0.003559 -0.002047\n",
       "5 19700108  0.002034  0.000564  0.002890  0.000540\n",
       "6 19700109 -0.001353 -0.002797 -0.002923 -0.003021"
      ]
     },
     "metadata": {},
     "output_type": "display_data"
    }
   ],
   "source": [
    "library(fracdiff)\n",
    "da = read.table(\"data/d-ibm3dx7008.txt\", header=T)\n",
    "head(da)"
   ]
  },
  {
   "cell_type": "code",
   "execution_count": 40,
   "metadata": {},
   "outputs": [
    {
     "data": {
      "image/png": "[encoded data removed]",
      "text/plain": [
       "Plot with title \"Series  ew\""
      ]
     },
     "metadata": {},
     "output_type": "display_data"
    }
   ],
   "source": [
    "ew = abs(da$vwretd)\n",
    "acf(ew, lag=300)"
   ]
  },
  {
   "cell_type": "code",
   "execution_count": 32,
   "metadata": {},
   "outputs": [
    {
     "data": {
      "text/html": [
       "<dl>\n",
       "\t<dt>$d</dt>\n",
       "\t\t<dd>0.372226042608781</dd>\n",
       "\t<dt>$sd.as</dt>\n",
       "\t\t<dd>0.0698384972697078</dd>\n",
       "\t<dt>$sd.reg</dt>\n",
       "\t\t<dd>0.0686885724819805</dd>\n",
       "</dl>\n"
      ],
      "text/latex": [
       "\\begin{description}\n",
       "\\item[\\$d] 0.372226042608781\n",
       "\\item[\\$sd.as] 0.0698384972697078\n",
       "\\item[\\$sd.reg] 0.0686885724819805\n",
       "\\end{description}\n"
      ],
      "text/markdown": [
       "$d\n",
       ":   0.372226042608781\n",
       "$sd.as\n",
       ":   0.0698384972697078\n",
       "$sd.reg\n",
       ":   0.0686885724819805\n",
       "\n",
       "\n"
      ],
      "text/plain": [
       "$d\n",
       "[1] 0.372226\n",
       "\n",
       "$sd.as\n",
       "[1] 0.0698385\n",
       "\n",
       "$sd.reg\n",
       "[1] 0.06868857\n"
      ]
     },
     "metadata": {},
     "output_type": "display_data"
    }
   ],
   "source": [
    "m3 = fdGPH(ew)\n",
    "m3"
   ]
  },
  {
   "cell_type": "markdown",
   "metadata": {},
   "source": [
    "把该序列作为纯分数差分过程并应用Geweke-Porter-Hudak方法，我们得到$\\hat{d}=0.372$，标准误差为0.070。"
   ]
  },
  {
   "cell_type": "code",
   "execution_count": 33,
   "metadata": {},
   "outputs": [
    {
     "data": {
      "text/plain": [
       "\n",
       "Call:\n",
       "  fracdiff(x = ew, nar = 1, nma = 1) \n",
       "\n",
       "Coefficients:\n",
       "   Estimate Std. Error z value Pr(>|z|)    \n",
       "d  0.490938   0.007997   61.39   <2e-16 ***\n",
       "ar 0.113389   0.005988   18.94   <2e-16 ***\n",
       "ma 0.575895   0.005946   96.85   <2e-16 ***\n",
       "---\n",
       "Signif. codes:  0 '***' 0.001 '**' 0.01 '*' 0.05 '.' 0.1 ' ' 1\n",
       "sigma[eps] = 0.0065619 \n",
       "[d.tol = 0.0001221, M = 100, h = 0.0003742]\n",
       "Log likelihood: 3.551e+04 ==> AIC = -71021.02 [4 deg.freedom]"
      ]
     },
     "metadata": {},
     "output_type": "display_data"
    }
   ],
   "source": [
    "m2 = fracdiff(ew, nar=1, nma=1)\n",
    "summary(m2)"
   ]
  },
  {
   "cell_type": "markdown",
   "metadata": {},
   "source": [
    "## 模型比较与平均"
   ]
  },
  {
   "cell_type": "code",
   "execution_count": 41,
   "metadata": {},
   "outputs": [
    {
     "data": {
      "text/html": [
       "<table>\n",
       "<thead><tr><th scope=col>Year</th><th scope=col>Mon</th><th scope=col>Day</th><th scope=col>gdp</th></tr></thead>\n",
       "<tbody>\n",
       "\t<tr><td>1947    </td><td> 1      </td><td>1       </td><td>1772.204</td></tr>\n",
       "\t<tr><td>1947    </td><td> 4      </td><td>1       </td><td>1769.486</td></tr>\n",
       "\t<tr><td>1947    </td><td> 7      </td><td>1       </td><td>1768.032</td></tr>\n",
       "\t<tr><td>1947    </td><td>10      </td><td>1       </td><td>1794.842</td></tr>\n",
       "\t<tr><td>1948    </td><td> 1      </td><td>1       </td><td>1823.365</td></tr>\n",
       "\t<tr><td>1948    </td><td> 4      </td><td>1       </td><td>1856.930</td></tr>\n",
       "</tbody>\n",
       "</table>\n"
      ],
      "text/latex": [
       "\\begin{tabular}{r|llll}\n",
       " Year & Mon & Day & gdp\\\\\n",
       "\\hline\n",
       "\t 1947     &  1       & 1        & 1772.204\\\\\n",
       "\t 1947     &  4       & 1        & 1769.486\\\\\n",
       "\t 1947     &  7       & 1        & 1768.032\\\\\n",
       "\t 1947     & 10       & 1        & 1794.842\\\\\n",
       "\t 1948     &  1       & 1        & 1823.365\\\\\n",
       "\t 1948     &  4       & 1        & 1856.930\\\\\n",
       "\\end{tabular}\n"
      ],
      "text/markdown": [
       "\n",
       "| Year | Mon | Day | gdp |\n",
       "|---|---|---|---|\n",
       "| 1947     |  1       | 1        | 1772.204 |\n",
       "| 1947     |  4       | 1        | 1769.486 |\n",
       "| 1947     |  7       | 1        | 1768.032 |\n",
       "| 1947     | 10       | 1        | 1794.842 |\n",
       "| 1948     |  1       | 1        | 1823.365 |\n",
       "| 1948     |  4       | 1        | 1856.930 |\n",
       "\n"
      ],
      "text/plain": [
       "  Year Mon Day gdp     \n",
       "1 1947  1  1   1772.204\n",
       "2 1947  4  1   1769.486\n",
       "3 1947  7  1   1768.032\n",
       "4 1947 10  1   1794.842\n",
       "5 1948  1  1   1823.365\n",
       "6 1948  4  1   1856.930"
      ]
     },
     "metadata": {},
     "output_type": "display_data"
    }
   ],
   "source": [
    "da = read.table(\"data/q-gdpc96.txt\", header=T)\n",
    "head(da)"
   ]
  },
  {
   "cell_type": "code",
   "execution_count": 42,
   "metadata": {},
   "outputs": [],
   "source": [
    "gdp = log(da$gdp)\n",
    "dgdp = diff(gdp)"
   ]
  },
  {
   "cell_type": "markdown",
   "metadata": {},
   "source": [
    "为什么这个不可以用AR(1)模型直接拟合呢？     \n",
    "MA模型主要应用在时间序列去掉趋势的时候，AR模型对数据走势有什么偏好吗？如果数据呈现上升走势，可以使用AR模型拟合吗？"
   ]
  },
  {
   "cell_type": "code",
   "execution_count": 72,
   "metadata": {},
   "outputs": [
    {
     "data": {
      "text/html": [
       "1"
      ],
      "text/latex": [
       "1"
      ],
      "text/markdown": [
       "1"
      ],
      "text/plain": [
       "[1] 1"
      ]
     },
     "metadata": {},
     "output_type": "display_data"
    }
   ],
   "source": [
    "m1 = ar(gdp, type=\"mle\")\n",
    "m1$order"
   ]
  },
  {
   "cell_type": "code",
   "execution_count": 73,
   "metadata": {},
   "outputs": [
    {
     "data": {
      "image/png": "[encoded data removed]",
      "text/plain": [
       "Plot with title \"Series  gdp\""
      ]
     },
     "metadata": {},
     "output_type": "display_data"
    }
   ],
   "source": [
    "pacf(gdp)"
   ]
  },
  {
   "cell_type": "code",
   "execution_count": 49,
   "metadata": {},
   "outputs": [
    {
     "data": {
      "image/png": "[encoded data removed]",
      "text/plain": [
       "plot without title"
      ]
     },
     "metadata": {},
     "output_type": "display_data"
    }
   ],
   "source": [
    "par(mfcol=c(2, 1))\n",
    "plot(gdp, type=\"l\")\n",
    "plot(dgdp, type=\"l\")"
   ]
  },
  {
   "cell_type": "code",
   "execution_count": 50,
   "metadata": {},
   "outputs": [
    {
     "data": {
      "image/png": "[encoded data removed]",
      "text/plain": [
       "Plot with title \"Series  dgdp\""
      ]
     },
     "metadata": {},
     "output_type": "display_data"
    }
   ],
   "source": [
    "par(mfcol=c(2, 1))\n",
    "acf(dgdp, lag=24)\n",
    "pacf(dgdp, lag=24)"
   ]
  },
  {
   "cell_type": "code",
   "execution_count": 43,
   "metadata": {},
   "outputs": [
    {
     "data": {
      "text/html": [
       "3"
      ],
      "text/latex": [
       "3"
      ],
      "text/markdown": [
       "3"
      ],
      "text/plain": [
       "[1] 3"
      ]
     },
     "metadata": {},
     "output_type": "display_data"
    }
   ],
   "source": [
    "m1 = ar(dgdp, method=\"mle\")\n",
    "m1$order"
   ]
  },
  {
   "cell_type": "code",
   "execution_count": 52,
   "metadata": {},
   "outputs": [
    {
     "data": {
      "text/plain": [
       "\n",
       "\tOne Sample t-test\n",
       "\n",
       "data:  dgdp\n",
       "t = 12.689, df = 252, p-value < 2.2e-16\n",
       "alternative hypothesis: true mean is not equal to 0\n",
       "95 percent confidence interval:\n",
       " 0.006702717 0.009165648\n",
       "sample estimates:\n",
       "  mean of x \n",
       "0.007934182 \n"
      ]
     },
     "metadata": {},
     "output_type": "display_data"
    }
   ],
   "source": [
    "t.test(dgdp)"
   ]
  },
  {
   "cell_type": "code",
   "execution_count": 51,
   "metadata": {},
   "outputs": [
    {
     "data": {
      "text/plain": [
       "\n",
       "Call:\n",
       "arima(x = dgdp, order = c(3, 0, 0))\n",
       "\n",
       "Coefficients:\n",
       "         ar1     ar2      ar3  intercept\n",
       "      0.3462  0.1299  -0.1225     0.0079\n",
       "s.e.  0.0623  0.0655   0.0624     0.0009\n",
       "\n",
       "sigma^2 estimated as 8.323e-05:  log likelihood = 829.23,  aic = -1648.45"
      ]
     },
     "metadata": {},
     "output_type": "display_data"
    }
   ],
   "source": [
    "m2 = arima(dgdp, order=c(3, 0, 0))\n",
    "m2"
   ]
  },
  {
   "cell_type": "markdown",
   "metadata": {},
   "source": [
    "拟合的AR(3)模型为\n",
    "$$\n",
    "(1-0.346B-0.130B^2+0.123B^3)(x_t-0.0079)=a_t\n",
    "$$"
   ]
  },
  {
   "cell_type": "code",
   "execution_count": 69,
   "metadata": {},
   "outputs": [
    {
     "data": {
      "image/png": "[encoded data removed]",
      "text/plain": [
       "Plot with title \"p values for Ljung-Box statistic\""
      ]
     },
     "metadata": {},
     "output_type": "display_data"
    }
   ],
   "source": [
    "tsdiag(m2, gol=24)"
   ]
  },
  {
   "cell_type": "code",
   "execution_count": 45,
   "metadata": {},
   "outputs": [
    {
     "data": {
      "text/plain": [
       "\n",
       "Call:\n",
       "arima(x = dgdp, order = c(3, 0, 0), seasonal = list(order = c(1, 0, 1), period = 4))\n",
       "\n",
       "Coefficients:\n",
       "         ar1     ar2      ar3    sar1     sma1  intercept\n",
       "      0.3305  0.1521  -0.1103  0.4966  -0.5865     0.0079\n",
       "s.e.  0.0633  0.0668   0.0635  0.2578   0.2357     0.0008\n",
       "\n",
       "sigma^2 estimated as 8.24e-05:  log likelihood = 830.47,  aic = -1646.93"
      ]
     },
     "metadata": {},
     "output_type": "display_data"
    }
   ],
   "source": [
    "m3 = arima(dgdp, order=c(3, 0, 0), season=list(order=c(1, 0, 1), period=4))\n",
    "m3"
   ]
  },
  {
   "cell_type": "markdown",
   "metadata": {},
   "source": [
    "季节模型\n",
    "$$\n",
    "(1-0.3305B-0.1521B^2+0.1103B^3)(1-0.4966B^4)(x_t-0.0079)=(1-0.5965B^4)a_t\n",
    "$$"
   ]
  },
  {
   "cell_type": "code",
   "execution_count": 46,
   "metadata": {},
   "outputs": [
    {
     "name": "stdout",
     "output_type": "stream",
     "text": [
      "[1] \"RMSE of out-of-sample forecasts\"\n",
      "[1] 0.006153102\n",
      "[1] \"Mean absolute error of out-of-sample forecasts\"\n",
      "[1] 0.004430387\n"
     ]
    }
   ],
   "source": [
    "source(\"backtest.R\")\n",
    "mm2 = backtest(m2, dgdp, 215, 1)"
   ]
  },
  {
   "cell_type": "code",
   "execution_count": 47,
   "metadata": {},
   "outputs": [
    {
     "name": "stdout",
     "output_type": "stream",
     "text": [
      "[1] \"RMSE of out-of-sample forecasts\"\n",
      "[1] 0.006322009\n",
      "[1] \"Mean absolute error of out-of-sample forecasts\"\n",
      "[1] 0.004553896\n"
     ]
    }
   ],
   "source": [
    "mm3 = backtest(m3, dgdp, 215, 1)"
   ]
  },
  {
   "cell_type": "markdown",
   "metadata": {},
   "source": [
    "对于超前1步预测来说，预测误差的平方根和平均绝对预测误差都说明AR(3)模型比季节模型好。"
   ]
  }
 ],
 "metadata": {
  "celltoolbar": "Raw Cell Format",
  "kernelspec": {
   "display_name": "R",
   "language": "R",
   "name": "ir"
  },
  "language_info": {
   "codemirror_mode": "r",
   "file_extension": ".r",
   "mimetype": "text/x-r-source",
   "name": "R",
   "pygments_lexer": "r",
   "version": "3.6.1"
  },
  "toc": {
   "base_numbering": 1,
   "nav_menu": {},
   "number_sections": true,
   "sideBar": true,
   "skip_h1_title": false,
   "title_cell": "Table of Contents",
   "title_sidebar": "Contents",
   "toc_cell": false,
   "toc_position": {},
   "toc_section_display": true,
   "toc_window_display": false
  },
  "toc-autonumbering": false,
  "toc-showcode": false,
  "toc-showmarkdowntxt": false,
  "toc-showtags": false
 },
 "nbformat": 4,
 "nbformat_minor": 4
}
