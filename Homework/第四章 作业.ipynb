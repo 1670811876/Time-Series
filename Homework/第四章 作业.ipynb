{
 "cells": [
  {
   "cell_type": "markdown",
   "metadata": {},
   "source": [
    "下面习题要求：1）检验中应用5%的显著性水平；2）对收益率序列应用10阶滞后阶数自相关性。"
   ]
  },
  {
   "cell_type": "code",
   "execution_count": 1,
   "metadata": {},
   "outputs": [
    {
     "data": {
      "text/html": [
       "<table>\n",
       "<thead><tr><th scope=col>date</th><th scope=col>rtn</th></tr></thead>\n",
       "<tbody>\n",
       "\t<tr><td>20010904 </td><td>-0.006395</td></tr>\n",
       "\t<tr><td>20010905 </td><td> 0.002469</td></tr>\n",
       "\t<tr><td>20010906 </td><td>-0.025770</td></tr>\n",
       "\t<tr><td>20010907 </td><td>-0.018507</td></tr>\n",
       "\t<tr><td>20010910 </td><td> 0.012233</td></tr>\n",
       "\t<tr><td>20010917 </td><td>-0.052249</td></tr>\n",
       "</tbody>\n",
       "</table>\n"
      ],
      "text/latex": [
       "\\begin{tabular}{r|ll}\n",
       " date & rtn\\\\\n",
       "\\hline\n",
       "\t 20010904  & -0.006395\\\\\n",
       "\t 20010905  &  0.002469\\\\\n",
       "\t 20010906  & -0.025770\\\\\n",
       "\t 20010907  & -0.018507\\\\\n",
       "\t 20010910  &  0.012233\\\\\n",
       "\t 20010917  & -0.052249\\\\\n",
       "\\end{tabular}\n"
      ],
      "text/markdown": [
       "\n",
       "| date | rtn |\n",
       "|---|---|\n",
       "| 20010904  | -0.006395 |\n",
       "| 20010905  |  0.002469 |\n",
       "| 20010906  | -0.025770 |\n",
       "| 20010907  | -0.018507 |\n",
       "| 20010910  |  0.012233 |\n",
       "| 20010917  | -0.052249 |\n",
       "\n"
      ],
      "text/plain": [
       "  date     rtn      \n",
       "1 20010904 -0.006395\n",
       "2 20010905  0.002469\n",
       "3 20010906 -0.025770\n",
       "4 20010907 -0.018507\n",
       "5 20010910  0.012233\n",
       "6 20010917 -0.052249"
      ]
     },
     "metadata": {},
     "output_type": "display_data"
    }
   ],
   "source": [
    "da <- read.table(\"data/d-spy-0111.txt\", head=T)\n",
    "head(da)"
   ]
  },
  {
   "cell_type": "code",
   "execution_count": 2,
   "metadata": {},
   "outputs": [
    {
     "data": {
      "text/plain": [
       "\n",
       "\tOne Sample t-test\n",
       "\n",
       "data:  intc\n",
       "t = 0.26515, df = 2534, p-value = 0.7909\n",
       "alternative hypothesis: true mean is not equal to 0\n",
       "95 percent confidence interval:\n",
       " -0.0004633792  0.0006082874\n",
       "sample estimates:\n",
       "  mean of x \n",
       "7.24541e-05 \n"
      ]
     },
     "metadata": {},
     "output_type": "display_data"
    }
   ],
   "source": [
    "rtn <- da$rtn\n",
    "intc <- log(rtn+1)\n",
    "t.test(intc)"
   ]
  },
  {
   "cell_type": "code",
   "execution_count": 5,
   "metadata": {},
   "outputs": [
    {
     "data": {
      "image/png": "[encoded data removed]",
      "text/plain": [
       "Plot with title \"Series  intc\""
      ]
     },
     "metadata": {},
     "output_type": "display_data"
    }
   ],
   "source": [
    "par(mfcol=c(2, 1))\n",
    "acf(intc, lag=36)\n",
    "pacf(intc, lag=36)"
   ]
  },
  {
   "cell_type": "code",
   "execution_count": null,
   "metadata": {},
   "outputs": [],
   "source": []
  }
 ],
 "metadata": {
  "kernelspec": {
   "display_name": "R",
   "language": "R",
   "name": "ir"
  },
  "language_info": {
   "codemirror_mode": "r",
   "file_extension": ".r",
   "mimetype": "text/x-r-source",
   "name": "R",
   "pygments_lexer": "r",
   "version": "3.6.1"
  }
 },
 "nbformat": 4,
 "nbformat_minor": 2
}
